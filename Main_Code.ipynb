{
 "cells": [
  {
   "cell_type": "markdown",
   "metadata": {},
   "source": [
    "# Dissertation"
   ]
  },
  {
   "cell_type": "code",
   "execution_count": 2,
   "metadata": {},
   "outputs": [],
   "source": [
    "#Importing libararies\n",
    "\n",
    "import numpy as np\n",
    "from scipy.stats import norm\n",
    "import pandas as pd\n",
    "import matplotlib.pyplot as plt\n",
    "import seaborn as sns\n",
    "from sklearn.model_selection import train_test_split\n",
    "from sklearn.neural_network import MLPRegressor\n",
    "from sklearn.metrics import mean_squared_error, mean_absolute_error, r2_score\n",
    "from sklearn.model_selection import GridSearchCV\n",
    "from keras_tuner.tuners import BayesianOptimization\n",
    "import tensorflow as tf\n",
    "from sklearn.preprocessing import MinMaxScaler\n",
    "from keras.models import Sequential\n",
    "from keras.layers import LSTM, GRU, Dense, Dropout\n",
    "from keras.optimizers import Adam\n",
    "from keras.callbacks import EarlyStopping\n",
    "import yfinance as yf\n",
    "from bs4 import BeautifulSoup\n",
    "import datetime, time\n",
    "import requests\n",
    "import os.path\n",
    "from os import path"
   ]
  },
  {
   "cell_type": "markdown",
   "metadata": {},
   "source": [
    "### Data acquisition"
   ]
  },
  {
   "cell_type": "code",
   "execution_count": 154,
   "metadata": {},
   "outputs": [
    {
     "data": {
      "text/html": [
       "<div>\n",
       "<style scoped>\n",
       "    .dataframe tbody tr th:only-of-type {\n",
       "        vertical-align: middle;\n",
       "    }\n",
       "\n",
       "    .dataframe tbody tr th {\n",
       "        vertical-align: top;\n",
       "    }\n",
       "\n",
       "    .dataframe thead th {\n",
       "        text-align: right;\n",
       "    }\n",
       "</style>\n",
       "<table border=\"1\" class=\"dataframe\">\n",
       "  <thead>\n",
       "    <tr style=\"text-align: right;\">\n",
       "      <th></th>\n",
       "      <th>Stock Price</th>\n",
       "      <th>Strike Price</th>\n",
       "      <th>Maturity</th>\n",
       "      <th>Dividends</th>\n",
       "      <th>Volatility</th>\n",
       "      <th>Risk-free</th>\n",
       "      <th>Call Price</th>\n",
       "      <th>Stock Name</th>\n",
       "    </tr>\n",
       "  </thead>\n",
       "  <tbody>\n",
       "    <tr>\n",
       "      <th>0</th>\n",
       "      <td>102.87</td>\n",
       "      <td>70.0</td>\n",
       "      <td>0.009096</td>\n",
       "      <td>0.0609</td>\n",
       "      <td>0.2177</td>\n",
       "      <td>0.0423</td>\n",
       "      <td>33.17</td>\n",
       "      <td>MMM</td>\n",
       "    </tr>\n",
       "    <tr>\n",
       "      <th>1</th>\n",
       "      <td>102.87</td>\n",
       "      <td>94.0</td>\n",
       "      <td>0.009096</td>\n",
       "      <td>0.0609</td>\n",
       "      <td>0.2177</td>\n",
       "      <td>0.0423</td>\n",
       "      <td>8.93</td>\n",
       "      <td>MMM</td>\n",
       "    </tr>\n",
       "    <tr>\n",
       "      <th>2</th>\n",
       "      <td>102.87</td>\n",
       "      <td>95.0</td>\n",
       "      <td>0.009096</td>\n",
       "      <td>0.0609</td>\n",
       "      <td>0.2177</td>\n",
       "      <td>0.0423</td>\n",
       "      <td>7.98</td>\n",
       "      <td>MMM</td>\n",
       "    </tr>\n",
       "    <tr>\n",
       "      <th>3</th>\n",
       "      <td>102.87</td>\n",
       "      <td>96.0</td>\n",
       "      <td>0.009096</td>\n",
       "      <td>0.0609</td>\n",
       "      <td>0.2177</td>\n",
       "      <td>0.0423</td>\n",
       "      <td>6.95</td>\n",
       "      <td>MMM</td>\n",
       "    </tr>\n",
       "    <tr>\n",
       "      <th>4</th>\n",
       "      <td>102.87</td>\n",
       "      <td>97.0</td>\n",
       "      <td>0.009096</td>\n",
       "      <td>0.0609</td>\n",
       "      <td>0.2177</td>\n",
       "      <td>0.0423</td>\n",
       "      <td>6.05</td>\n",
       "      <td>MMM</td>\n",
       "    </tr>\n",
       "  </tbody>\n",
       "</table>\n",
       "</div>"
      ],
      "text/plain": [
       "   Stock Price  Strike Price  Maturity  Dividends  Volatility  Risk-free  \\\n",
       "0       102.87          70.0  0.009096     0.0609      0.2177     0.0423   \n",
       "1       102.87          94.0  0.009096     0.0609      0.2177     0.0423   \n",
       "2       102.87          95.0  0.009096     0.0609      0.2177     0.0423   \n",
       "3       102.87          96.0  0.009096     0.0609      0.2177     0.0423   \n",
       "4       102.87          97.0  0.009096     0.0609      0.2177     0.0423   \n",
       "\n",
       "   Call Price Stock Name  \n",
       "0       33.17        MMM  \n",
       "1        8.93        MMM  \n",
       "2        7.98        MMM  \n",
       "3        6.95        MMM  \n",
       "4        6.05        MMM  "
      ]
     },
     "execution_count": 154,
     "metadata": {},
     "output_type": "execute_result"
    }
   ],
   "source": [
    "# Provide the correct path to your CSV file\n",
    "csv_file_path = 'SNP500_data.csv'\n",
    "\n",
    "# Read the CSV file into a dataframe\n",
    "SNP500 = pd.read_csv(csv_file_path)\n",
    "\n",
    "# Now you can use the imported_df dataframe in your program\n",
    "SNP500.head()"
   ]
  },
  {
   "cell_type": "code",
   "execution_count": 155,
   "metadata": {
    "scrolled": true
   },
   "outputs": [
    {
     "data": {
      "text/html": [
       "<div>\n",
       "<style scoped>\n",
       "    .dataframe tbody tr th:only-of-type {\n",
       "        vertical-align: middle;\n",
       "    }\n",
       "\n",
       "    .dataframe tbody tr th {\n",
       "        vertical-align: top;\n",
       "    }\n",
       "\n",
       "    .dataframe thead th {\n",
       "        text-align: right;\n",
       "    }\n",
       "</style>\n",
       "<table border=\"1\" class=\"dataframe\">\n",
       "  <thead>\n",
       "    <tr style=\"text-align: right;\">\n",
       "      <th></th>\n",
       "      <th>Stock Price</th>\n",
       "      <th>Strike Price</th>\n",
       "      <th>Maturity</th>\n",
       "      <th>Dividends</th>\n",
       "      <th>Volatility</th>\n",
       "      <th>Risk-free</th>\n",
       "      <th>Call Price</th>\n",
       "    </tr>\n",
       "  </thead>\n",
       "  <tbody>\n",
       "    <tr>\n",
       "      <th>count</th>\n",
       "      <td>41796.000000</td>\n",
       "      <td>41796.000000</td>\n",
       "      <td>41796.000000</td>\n",
       "      <td>41796.000000</td>\n",
       "      <td>41796.000000</td>\n",
       "      <td>4.179600e+04</td>\n",
       "      <td>41796.000000</td>\n",
       "    </tr>\n",
       "    <tr>\n",
       "      <th>mean</th>\n",
       "      <td>270.960154</td>\n",
       "      <td>209.745493</td>\n",
       "      <td>0.488636</td>\n",
       "      <td>0.015856</td>\n",
       "      <td>0.267977</td>\n",
       "      <td>4.230000e-02</td>\n",
       "      <td>64.936511</td>\n",
       "    </tr>\n",
       "    <tr>\n",
       "      <th>std</th>\n",
       "      <td>429.501470</td>\n",
       "      <td>354.176779</td>\n",
       "      <td>0.542330</td>\n",
       "      <td>0.017404</td>\n",
       "      <td>0.085970</td>\n",
       "      <td>1.803440e-14</td>\n",
       "      <td>123.281248</td>\n",
       "    </tr>\n",
       "    <tr>\n",
       "      <th>min</th>\n",
       "      <td>9.580000</td>\n",
       "      <td>0.350000</td>\n",
       "      <td>0.008546</td>\n",
       "      <td>0.000000</td>\n",
       "      <td>0.000000</td>\n",
       "      <td>4.230000e-02</td>\n",
       "      <td>0.000000</td>\n",
       "    </tr>\n",
       "    <tr>\n",
       "      <th>25%</th>\n",
       "      <td>79.250000</td>\n",
       "      <td>57.500000</td>\n",
       "      <td>0.066041</td>\n",
       "      <td>0.000000</td>\n",
       "      <td>0.204900</td>\n",
       "      <td>4.230000e-02</td>\n",
       "      <td>9.850000</td>\n",
       "    </tr>\n",
       "    <tr>\n",
       "      <th>50%</th>\n",
       "      <td>146.170000</td>\n",
       "      <td>110.000000</td>\n",
       "      <td>0.296684</td>\n",
       "      <td>0.011300</td>\n",
       "      <td>0.252400</td>\n",
       "      <td>4.230000e-02</td>\n",
       "      <td>27.650000</td>\n",
       "    </tr>\n",
       "    <tr>\n",
       "      <th>75%</th>\n",
       "      <td>302.670000</td>\n",
       "      <td>220.000000</td>\n",
       "      <td>0.813475</td>\n",
       "      <td>0.025900</td>\n",
       "      <td>0.325300</td>\n",
       "      <td>4.230000e-02</td>\n",
       "      <td>70.250000</td>\n",
       "    </tr>\n",
       "    <tr>\n",
       "      <th>max</th>\n",
       "      <td>3064.260000</td>\n",
       "      <td>3060.000000</td>\n",
       "      <td>2.557600</td>\n",
       "      <td>0.089800</td>\n",
       "      <td>0.596300</td>\n",
       "      <td>4.230000e-02</td>\n",
       "      <td>2285.000000</td>\n",
       "    </tr>\n",
       "  </tbody>\n",
       "</table>\n",
       "</div>"
      ],
      "text/plain": [
       "        Stock Price  Strike Price      Maturity     Dividends    Volatility  \\\n",
       "count  41796.000000  41796.000000  41796.000000  41796.000000  41796.000000   \n",
       "mean     270.960154    209.745493      0.488636      0.015856      0.267977   \n",
       "std      429.501470    354.176779      0.542330      0.017404      0.085970   \n",
       "min        9.580000      0.350000      0.008546      0.000000      0.000000   \n",
       "25%       79.250000     57.500000      0.066041      0.000000      0.204900   \n",
       "50%      146.170000    110.000000      0.296684      0.011300      0.252400   \n",
       "75%      302.670000    220.000000      0.813475      0.025900      0.325300   \n",
       "max     3064.260000   3060.000000      2.557600      0.089800      0.596300   \n",
       "\n",
       "          Risk-free    Call Price  \n",
       "count  4.179600e+04  41796.000000  \n",
       "mean   4.230000e-02     64.936511  \n",
       "std    1.803440e-14    123.281248  \n",
       "min    4.230000e-02      0.000000  \n",
       "25%    4.230000e-02      9.850000  \n",
       "50%    4.230000e-02     27.650000  \n",
       "75%    4.230000e-02     70.250000  \n",
       "max    4.230000e-02   2285.000000  "
      ]
     },
     "execution_count": 155,
     "metadata": {},
     "output_type": "execute_result"
    }
   ],
   "source": [
    "SNP500.describe()"
   ]
  },
  {
   "cell_type": "code",
   "execution_count": 156,
   "metadata": {},
   "outputs": [],
   "source": [
    "SNP500 = SNP500.drop(columns=['Dividends', 'Stock Name'])\n",
    "SNP500 = SNP500[SNP500['Call Price'] > 0]"
   ]
  },
  {
   "cell_type": "code",
   "execution_count": 157,
   "metadata": {},
   "outputs": [
    {
     "data": {
      "text/html": [
       "<div>\n",
       "<style scoped>\n",
       "    .dataframe tbody tr th:only-of-type {\n",
       "        vertical-align: middle;\n",
       "    }\n",
       "\n",
       "    .dataframe tbody tr th {\n",
       "        vertical-align: top;\n",
       "    }\n",
       "\n",
       "    .dataframe thead th {\n",
       "        text-align: right;\n",
       "    }\n",
       "</style>\n",
       "<table border=\"1\" class=\"dataframe\">\n",
       "  <thead>\n",
       "    <tr style=\"text-align: right;\">\n",
       "      <th></th>\n",
       "      <th>Stock Price</th>\n",
       "      <th>Strike Price</th>\n",
       "      <th>Maturity</th>\n",
       "      <th>Volatility</th>\n",
       "      <th>Risk-free</th>\n",
       "      <th>Call Price</th>\n",
       "    </tr>\n",
       "  </thead>\n",
       "  <tbody>\n",
       "    <tr>\n",
       "      <th>0</th>\n",
       "      <td>102.87</td>\n",
       "      <td>70.0</td>\n",
       "      <td>0.009096</td>\n",
       "      <td>0.2177</td>\n",
       "      <td>0.0423</td>\n",
       "      <td>33.17</td>\n",
       "    </tr>\n",
       "    <tr>\n",
       "      <th>1</th>\n",
       "      <td>102.87</td>\n",
       "      <td>94.0</td>\n",
       "      <td>0.009096</td>\n",
       "      <td>0.2177</td>\n",
       "      <td>0.0423</td>\n",
       "      <td>8.93</td>\n",
       "    </tr>\n",
       "    <tr>\n",
       "      <th>2</th>\n",
       "      <td>102.87</td>\n",
       "      <td>95.0</td>\n",
       "      <td>0.009096</td>\n",
       "      <td>0.2177</td>\n",
       "      <td>0.0423</td>\n",
       "      <td>7.98</td>\n",
       "    </tr>\n",
       "    <tr>\n",
       "      <th>3</th>\n",
       "      <td>102.87</td>\n",
       "      <td>96.0</td>\n",
       "      <td>0.009096</td>\n",
       "      <td>0.2177</td>\n",
       "      <td>0.0423</td>\n",
       "      <td>6.95</td>\n",
       "    </tr>\n",
       "    <tr>\n",
       "      <th>4</th>\n",
       "      <td>102.87</td>\n",
       "      <td>97.0</td>\n",
       "      <td>0.009096</td>\n",
       "      <td>0.2177</td>\n",
       "      <td>0.0423</td>\n",
       "      <td>6.05</td>\n",
       "    </tr>\n",
       "  </tbody>\n",
       "</table>\n",
       "</div>"
      ],
      "text/plain": [
       "   Stock Price  Strike Price  Maturity  Volatility  Risk-free  Call Price\n",
       "0       102.87          70.0  0.009096      0.2177     0.0423       33.17\n",
       "1       102.87          94.0  0.009096      0.2177     0.0423        8.93\n",
       "2       102.87          95.0  0.009096      0.2177     0.0423        7.98\n",
       "3       102.87          96.0  0.009096      0.2177     0.0423        6.95\n",
       "4       102.87          97.0  0.009096      0.2177     0.0423        6.05"
      ]
     },
     "execution_count": 157,
     "metadata": {},
     "output_type": "execute_result"
    }
   ],
   "source": [
    "SNP500.head()"
   ]
  },
  {
   "cell_type": "markdown",
   "metadata": {},
   "source": [
    "### Data Simulation"
   ]
  },
  {
   "cell_type": "code",
   "execution_count": 8,
   "metadata": {},
   "outputs": [],
   "source": [
    "# Geometric Brownian Motion (GBM) values generated for stock prices\n",
    "\n",
    "def GBM(x0,N,r,sigma,T):\n",
    "    # Generate time steps (t)\n",
    "    dt = T / N\n",
    "    t = np.linspace(0, T, N + 1)\n",
    "\n",
    "    # Generate GBM sample\n",
    "    np.random.seed(1)\n",
    "    W = np.random.standard_normal(size=N)\n",
    "    W = np.insert(W, 0, 0.0)\n",
    "    W = np.cumsum(W) * np.sqrt(dt)\n",
    "    S = x0 * np.exp((r - 0.5 * sigma ** 2) * t + sigma * W)\n",
    "    \n",
    "    return S"
   ]
  },
  {
   "cell_type": "code",
   "execution_count": 9,
   "metadata": {},
   "outputs": [
    {
     "data": {
      "image/png": "[encoded data removed]",
      "text/plain": [
       "<Figure size 720x432 with 1 Axes>"
      ]
     },
     "metadata": {
      "needs_background": "light"
     },
     "output_type": "display_data"
    }
   ],
   "source": [
    "#Generate stock prices using GBM \n",
    "\n",
    "s = 100 #initial stock price\n",
    "N = 1000000 #step size\n",
    "mu = 0.01 #drift rate\n",
    "sigma = 0.8 #volatility\n",
    "T = 1 #Time horizon\n",
    "\n",
    "S = GBM(s, N, mu, sigma, T)\n",
    "t = np.linspace(0, T, N + 1)\n",
    "\n",
    "plt.figure(figsize=(10, 6))\n",
    "plt.plot(t, S)\n",
    "plt.xlabel('Time')\n",
    "plt.ylabel('Stock Price')\n",
    "plt.title('Geometric Brownian Motion (GBM) Simulation')\n",
    "plt.grid(True)\n",
    "plt.show()"
   ]
  },
  {
   "cell_type": "markdown",
   "metadata": {},
   "source": [
    "### Black Scholes Model"
   ]
  },
  {
   "cell_type": "code",
   "execution_count": 10,
   "metadata": {},
   "outputs": [],
   "source": [
    "#Black-Scholes call value generator\n",
    "\n",
    "def BSM(S, K, r, sigma, t=0, T=1):\n",
    "    d1 = (np.log(S/K) + (r + (sigma**2)/2) * (T - t)) / (sigma * np.sqrt(T - t))\n",
    "    d2 = d1 - sigma * np.sqrt(T - t)\n",
    "    return (S * norm.cdf(d1)) - (K * np.exp(-r * (T - t)) * norm.cdf(d2))"
   ]
  },
  {
   "cell_type": "code",
   "execution_count": 11,
   "metadata": {},
   "outputs": [
    {
     "data": {
      "text/html": [
       "<div>\n",
       "<style scoped>\n",
       "    .dataframe tbody tr th:only-of-type {\n",
       "        vertical-align: middle;\n",
       "    }\n",
       "\n",
       "    .dataframe tbody tr th {\n",
       "        vertical-align: top;\n",
       "    }\n",
       "\n",
       "    .dataframe thead th {\n",
       "        text-align: right;\n",
       "    }\n",
       "</style>\n",
       "<table border=\"1\" class=\"dataframe\">\n",
       "  <thead>\n",
       "    <tr style=\"text-align: right;\">\n",
       "      <th></th>\n",
       "      <th>Stock</th>\n",
       "      <th>Strike</th>\n",
       "      <th>Time</th>\n",
       "      <th>sigma</th>\n",
       "      <th>r</th>\n",
       "      <th>BS</th>\n",
       "    </tr>\n",
       "  </thead>\n",
       "  <tbody>\n",
       "    <tr>\n",
       "      <th>0</th>\n",
       "      <td>100.000000</td>\n",
       "      <td>81.335226</td>\n",
       "      <td>0.835218</td>\n",
       "      <td>0.452288</td>\n",
       "      <td>0.013821</td>\n",
       "      <td>26.540123</td>\n",
       "    </tr>\n",
       "    <tr>\n",
       "      <th>1</th>\n",
       "      <td>100.130001</td>\n",
       "      <td>63.020201</td>\n",
       "      <td>0.840251</td>\n",
       "      <td>0.496220</td>\n",
       "      <td>0.038249</td>\n",
       "      <td>41.556753</td>\n",
       "    </tr>\n",
       "    <tr>\n",
       "      <th>2</th>\n",
       "      <td>100.080978</td>\n",
       "      <td>44.071530</td>\n",
       "      <td>0.045967</td>\n",
       "      <td>0.231775</td>\n",
       "      <td>0.037707</td>\n",
       "      <td>56.085770</td>\n",
       "    </tr>\n",
       "    <tr>\n",
       "      <th>3</th>\n",
       "      <td>100.038668</td>\n",
       "      <td>96.183153</td>\n",
       "      <td>0.203914</td>\n",
       "      <td>0.353225</td>\n",
       "      <td>0.037199</td>\n",
       "      <td>8.770495</td>\n",
       "    </tr>\n",
       "    <tr>\n",
       "      <th>4</th>\n",
       "      <td>99.952803</td>\n",
       "      <td>50.052237</td>\n",
       "      <td>0.859039</td>\n",
       "      <td>0.277178</td>\n",
       "      <td>0.045176</td>\n",
       "      <td>51.817431</td>\n",
       "    </tr>\n",
       "  </tbody>\n",
       "</table>\n",
       "</div>"
      ],
      "text/plain": [
       "        Stock     Strike      Time     sigma         r         BS\n",
       "0  100.000000  81.335226  0.835218  0.452288  0.013821  26.540123\n",
       "1  100.130001  63.020201  0.840251  0.496220  0.038249  41.556753\n",
       "2  100.080978  44.071530  0.045967  0.231775  0.037707  56.085770\n",
       "3  100.038668  96.183153  0.203914  0.353225  0.037199   8.770495\n",
       "4   99.952803  50.052237  0.859039  0.277178  0.045176  51.817431"
      ]
     },
     "execution_count": 11,
     "metadata": {},
     "output_type": "execute_result"
    }
   ],
   "source": [
    "# Generate Dataset using Black-scholes and GBM\n",
    "\n",
    "s = 100 #initial stock price\n",
    "N = 1000000 #step size\n",
    "mu = 0.01 #drift rate\n",
    "sigma = 0.8 #volatility\n",
    "T = 1 #Time horizon\n",
    "\n",
    "np.random.seed(1)\n",
    "mu = 0.01\n",
    "sample = GBM(s, N, mu, sigma, T)\n",
    "mydata = {}\n",
    "mydata['Stock'] = sample\n",
    "mydata['Strike'] = sample * np.random.uniform(low=0.4, high=1, size=len(sample)) #in-the money strike prices\n",
    "mydata['Time'] = np.random.uniform(low=0, high=1, size=len(sample))\n",
    "mydata['sigma'] = np.random.uniform(low=0.1, high=0.8, size=len(sample))\n",
    "mydata['r'] = np.random.uniform(low=0.01, high=0.05, size=len(sample))\n",
    "mydata['BS'] = BSM(S=mydata['Stock'], t=0, T=mydata['Time'], r=mydata['r'], K=mydata['Strike'], sigma=mydata['sigma'])\n",
    "\n",
    "mydata = pd.DataFrame(mydata)  # Converts dictionary to data frame\n",
    "mydata.head()"
   ]
  },
  {
   "cell_type": "code",
   "execution_count": 201,
   "metadata": {},
   "outputs": [
    {
     "data": {
      "text/html": [
       "<div>\n",
       "<style scoped>\n",
       "    .dataframe tbody tr th:only-of-type {\n",
       "        vertical-align: middle;\n",
       "    }\n",
       "\n",
       "    .dataframe tbody tr th {\n",
       "        vertical-align: top;\n",
       "    }\n",
       "\n",
       "    .dataframe thead th {\n",
       "        text-align: right;\n",
       "    }\n",
       "</style>\n",
       "<table border=\"1\" class=\"dataframe\">\n",
       "  <thead>\n",
       "    <tr style=\"text-align: right;\">\n",
       "      <th></th>\n",
       "      <th>Stock</th>\n",
       "      <th>Strike</th>\n",
       "      <th>Time</th>\n",
       "      <th>sigma</th>\n",
       "      <th>r</th>\n",
       "      <th>BS</th>\n",
       "    </tr>\n",
       "  </thead>\n",
       "  <tbody>\n",
       "    <tr>\n",
       "      <th>0</th>\n",
       "      <td>100.000000</td>\n",
       "      <td>81.335226</td>\n",
       "      <td>0.835218</td>\n",
       "      <td>0.452288</td>\n",
       "      <td>0.013821</td>\n",
       "      <td>26.540123</td>\n",
       "    </tr>\n",
       "    <tr>\n",
       "      <th>1</th>\n",
       "      <td>100.130001</td>\n",
       "      <td>63.020201</td>\n",
       "      <td>0.840251</td>\n",
       "      <td>0.496220</td>\n",
       "      <td>0.038249</td>\n",
       "      <td>41.556753</td>\n",
       "    </tr>\n",
       "    <tr>\n",
       "      <th>2</th>\n",
       "      <td>100.080978</td>\n",
       "      <td>44.071530</td>\n",
       "      <td>0.045967</td>\n",
       "      <td>0.231775</td>\n",
       "      <td>0.037707</td>\n",
       "      <td>56.085770</td>\n",
       "    </tr>\n",
       "    <tr>\n",
       "      <th>3</th>\n",
       "      <td>100.038668</td>\n",
       "      <td>96.183153</td>\n",
       "      <td>0.203914</td>\n",
       "      <td>0.353225</td>\n",
       "      <td>0.037199</td>\n",
       "      <td>8.770495</td>\n",
       "    </tr>\n",
       "    <tr>\n",
       "      <th>4</th>\n",
       "      <td>99.952803</td>\n",
       "      <td>50.052237</td>\n",
       "      <td>0.859039</td>\n",
       "      <td>0.277178</td>\n",
       "      <td>0.045176</td>\n",
       "      <td>51.817431</td>\n",
       "    </tr>\n",
       "    <tr>\n",
       "      <th>...</th>\n",
       "      <td>...</td>\n",
       "      <td>...</td>\n",
       "      <td>...</td>\n",
       "      <td>...</td>\n",
       "      <td>...</td>\n",
       "      <td>...</td>\n",
       "    </tr>\n",
       "    <tr>\n",
       "      <th>999996</th>\n",
       "      <td>123.443057</td>\n",
       "      <td>58.716275</td>\n",
       "      <td>0.056995</td>\n",
       "      <td>0.724450</td>\n",
       "      <td>0.022186</td>\n",
       "      <td>64.801008</td>\n",
       "    </tr>\n",
       "    <tr>\n",
       "      <th>999997</th>\n",
       "      <td>123.456879</td>\n",
       "      <td>118.341661</td>\n",
       "      <td>0.668871</td>\n",
       "      <td>0.193359</td>\n",
       "      <td>0.029663</td>\n",
       "      <td>11.840212</td>\n",
       "    </tr>\n",
       "    <tr>\n",
       "      <th>999998</th>\n",
       "      <td>123.397975</td>\n",
       "      <td>90.816288</td>\n",
       "      <td>0.601275</td>\n",
       "      <td>0.432714</td>\n",
       "      <td>0.042343</td>\n",
       "      <td>37.818713</td>\n",
       "    </tr>\n",
       "    <tr>\n",
       "      <th>999999</th>\n",
       "      <td>123.515076</td>\n",
       "      <td>94.588372</td>\n",
       "      <td>0.071274</td>\n",
       "      <td>0.111500</td>\n",
       "      <td>0.044823</td>\n",
       "      <td>29.228404</td>\n",
       "    </tr>\n",
       "    <tr>\n",
       "      <th>1000000</th>\n",
       "      <td>123.546009</td>\n",
       "      <td>64.252799</td>\n",
       "      <td>0.476836</td>\n",
       "      <td>0.525464</td>\n",
       "      <td>0.011335</td>\n",
       "      <td>60.075301</td>\n",
       "    </tr>\n",
       "  </tbody>\n",
       "</table>\n",
       "<p>1000001 rows × 6 columns</p>\n",
       "</div>"
      ],
      "text/plain": [
       "              Stock      Strike      Time     sigma         r         BS\n",
       "0        100.000000   81.335226  0.835218  0.452288  0.013821  26.540123\n",
       "1        100.130001   63.020201  0.840251  0.496220  0.038249  41.556753\n",
       "2        100.080978   44.071530  0.045967  0.231775  0.037707  56.085770\n",
       "3        100.038668   96.183153  0.203914  0.353225  0.037199   8.770495\n",
       "4         99.952803   50.052237  0.859039  0.277178  0.045176  51.817431\n",
       "...             ...         ...       ...       ...       ...        ...\n",
       "999996   123.443057   58.716275  0.056995  0.724450  0.022186  64.801008\n",
       "999997   123.456879  118.341661  0.668871  0.193359  0.029663  11.840212\n",
       "999998   123.397975   90.816288  0.601275  0.432714  0.042343  37.818713\n",
       "999999   123.515076   94.588372  0.071274  0.111500  0.044823  29.228404\n",
       "1000000  123.546009   64.252799  0.476836  0.525464  0.011335  60.075301\n",
       "\n",
       "[1000001 rows x 6 columns]"
      ]
     },
     "execution_count": 201,
     "metadata": {},
     "output_type": "execute_result"
    }
   ],
   "source": [
    "mydata"
   ]
  },
  {
   "cell_type": "markdown",
   "metadata": {},
   "source": [
    "### EDA (Explaratory Data Analysis)"
   ]
  },
  {
   "cell_type": "code",
   "execution_count": 12,
   "metadata": {},
   "outputs": [
    {
     "data": {
      "text/html": [
       "<div>\n",
       "<style scoped>\n",
       "    .dataframe tbody tr th:only-of-type {\n",
       "        vertical-align: middle;\n",
       "    }\n",
       "\n",
       "    .dataframe tbody tr th {\n",
       "        vertical-align: top;\n",
       "    }\n",
       "\n",
       "    .dataframe thead th {\n",
       "        text-align: right;\n",
       "    }\n",
       "</style>\n",
       "<table border=\"1\" class=\"dataframe\">\n",
       "  <thead>\n",
       "    <tr style=\"text-align: right;\">\n",
       "      <th></th>\n",
       "      <th>Stock</th>\n",
       "      <th>Strike</th>\n",
       "      <th>Time</th>\n",
       "      <th>sigma</th>\n",
       "      <th>r</th>\n",
       "      <th>BS</th>\n",
       "    </tr>\n",
       "  </thead>\n",
       "  <tbody>\n",
       "    <tr>\n",
       "      <th>count</th>\n",
       "      <td>1000001.00</td>\n",
       "      <td>1000001.00</td>\n",
       "      <td>1000001.00</td>\n",
       "      <td>1000001.00</td>\n",
       "      <td>1000001.00</td>\n",
       "      <td>1000001.00</td>\n",
       "    </tr>\n",
       "    <tr>\n",
       "      <th>mean</th>\n",
       "      <td>152.33</td>\n",
       "      <td>106.62</td>\n",
       "      <td>0.50</td>\n",
       "      <td>0.45</td>\n",
       "      <td>0.03</td>\n",
       "      <td>52.34</td>\n",
       "    </tr>\n",
       "    <tr>\n",
       "      <th>std</th>\n",
       "      <td>33.45</td>\n",
       "      <td>35.75</td>\n",
       "      <td>0.29</td>\n",
       "      <td>0.20</td>\n",
       "      <td>0.01</td>\n",
       "      <td>25.87</td>\n",
       "    </tr>\n",
       "    <tr>\n",
       "      <th>min</th>\n",
       "      <td>90.08</td>\n",
       "      <td>36.35</td>\n",
       "      <td>0.00</td>\n",
       "      <td>0.10</td>\n",
       "      <td>0.01</td>\n",
       "      <td>0.38</td>\n",
       "    </tr>\n",
       "    <tr>\n",
       "      <th>25%</th>\n",
       "      <td>123.53</td>\n",
       "      <td>79.51</td>\n",
       "      <td>0.25</td>\n",
       "      <td>0.28</td>\n",
       "      <td>0.02</td>\n",
       "      <td>32.31</td>\n",
       "    </tr>\n",
       "    <tr>\n",
       "      <th>50%</th>\n",
       "      <td>148.68</td>\n",
       "      <td>101.91</td>\n",
       "      <td>0.50</td>\n",
       "      <td>0.45</td>\n",
       "      <td>0.03</td>\n",
       "      <td>49.80</td>\n",
       "    </tr>\n",
       "    <tr>\n",
       "      <th>75%</th>\n",
       "      <td>176.81</td>\n",
       "      <td>128.92</td>\n",
       "      <td>0.75</td>\n",
       "      <td>0.63</td>\n",
       "      <td>0.04</td>\n",
       "      <td>69.19</td>\n",
       "    </tr>\n",
       "    <tr>\n",
       "      <th>max</th>\n",
       "      <td>252.21</td>\n",
       "      <td>250.33</td>\n",
       "      <td>1.00</td>\n",
       "      <td>0.80</td>\n",
       "      <td>0.05</td>\n",
       "      <td>155.24</td>\n",
       "    </tr>\n",
       "  </tbody>\n",
       "</table>\n",
       "</div>"
      ],
      "text/plain": [
       "            Stock      Strike        Time       sigma           r          BS\n",
       "count  1000001.00  1000001.00  1000001.00  1000001.00  1000001.00  1000001.00\n",
       "mean       152.33      106.62        0.50        0.45        0.03       52.34\n",
       "std         33.45       35.75        0.29        0.20        0.01       25.87\n",
       "min         90.08       36.35        0.00        0.10        0.01        0.38\n",
       "25%        123.53       79.51        0.25        0.28        0.02       32.31\n",
       "50%        148.68      101.91        0.50        0.45        0.03       49.80\n",
       "75%        176.81      128.92        0.75        0.63        0.04       69.19\n",
       "max        252.21      250.33        1.00        0.80        0.05      155.24"
      ]
     },
     "execution_count": 12,
     "metadata": {},
     "output_type": "execute_result"
    }
   ],
   "source": [
    "mydata.describe().apply(lambda x: x.round(2))"
   ]
  },
  {
   "cell_type": "code",
   "execution_count": 13,
   "metadata": {},
   "outputs": [
    {
     "data": {
      "image/png": "[encoded data removed]",
      "text/plain": [
       "<Figure size 576x432 with 2 Axes>"
      ]
     },
     "metadata": {
      "needs_background": "light"
     },
     "output_type": "display_data"
    }
   ],
   "source": [
    "# Correlation matrix\n",
    "\n",
    "correlation_matrix = mydata.corr()\n",
    "plt.figure(figsize=(8, 6))\n",
    "sns.heatmap(correlation_matrix, annot=True, cmap='viridis_r')\n",
    "plt.title('Correlation Heatmap')\n",
    "plt.xticks()\n",
    "plt.tight_layout()\n",
    "plt.show()"
   ]
  },
  {
   "cell_type": "code",
   "execution_count": 14,
   "metadata": {},
   "outputs": [
    {
     "data": {
      "image/png": "[encoded data removed]",
      "text/plain": [
       "<Figure size 1008x360 with 2 Axes>"
      ]
     },
     "metadata": {
      "needs_background": "light"
     },
     "output_type": "display_data"
    }
   ],
   "source": [
    "# Stock v/s Strike\n",
    "fig, axes = plt.subplots(nrows=1, ncols=2, figsize=(14, 5))\n",
    "plt.subplots_adjust(wspace=0.3, hspace=0.3)\n",
    "\n",
    "#Stock Prices Variations\n",
    "axes[0].plot(mydata['Stock'], label='Stock Price')\n",
    "axes[0].set_xlabel('Index')\n",
    "axes[0].set_ylabel('Price')\n",
    "axes[0].set_title('Stock Prices Variations')\n",
    "axes[0].legend()\n",
    "\n",
    "#Strike Prices Variations\n",
    "axes[1].plot(mydata['Strike'], label='Strike Price', color='orange')\n",
    "axes[1].set_xlabel('Index')\n",
    "axes[1].set_ylabel('Price')\n",
    "axes[1].set_title('Strike Prices Variations')\n",
    "axes[1].legend()\n",
    "\n",
    "plt.tight_layout()\n",
    "plt.show()\n"
   ]
  },
  {
   "cell_type": "code",
   "execution_count": 15,
   "metadata": {},
   "outputs": [
    {
     "data": {
      "image/png": "[encoded data removed]",
      "text/plain": [
       "<Figure size 720x432 with 1 Axes>"
      ]
     },
     "metadata": {
      "needs_background": "light"
     },
     "output_type": "display_data"
    }
   ],
   "source": [
    "# BSM Call prices v/s Strike price\n",
    "plt.figure(figsize=(10, 6))\n",
    "plt.scatter(mydata['Strike'], mydata['BS'], alpha=0.5)\n",
    "plt.xlabel('Strike Price')\n",
    "plt.ylabel('Black-Scholes Option Price')\n",
    "plt.title('Black-Scholes Option Prices vs Strike Prices')\n",
    "\n",
    "# Show the plot\n",
    "plt.grid(True)\n",
    "plt.show()\n"
   ]
  },
  {
   "cell_type": "markdown",
   "metadata": {},
   "source": [
    "## Training Black-Scholes formula on Neural Network"
   ]
  },
  {
   "cell_type": "code",
   "execution_count": 39,
   "metadata": {},
   "outputs": [],
   "source": [
    "X = mydata.drop('BS', axis=1).values\n",
    "y = mydata['BS'].values"
   ]
  },
  {
   "cell_type": "code",
   "execution_count": 40,
   "metadata": {},
   "outputs": [],
   "source": [
    "scaler = MinMaxScaler()\n",
    "X_scaled = scaler.fit_transform(X)"
   ]
  },
  {
   "cell_type": "code",
   "execution_count": 41,
   "metadata": {},
   "outputs": [],
   "source": [
    "X_train, X_test, y_train, y_test = train_test_split(X_scaled, y, test_size=0.2, random_state=1)"
   ]
  },
  {
   "cell_type": "code",
   "execution_count": 202,
   "metadata": {},
   "outputs": [
    {
     "data": {
      "text/plain": [
       "5"
      ]
     },
     "execution_count": 202,
     "metadata": {},
     "output_type": "execute_result"
    }
   ],
   "source": [
    "X_train.shape[1]"
   ]
  },
  {
   "cell_type": "markdown",
   "metadata": {},
   "source": [
    "### Keras Models"
   ]
  },
  {
   "cell_type": "markdown",
   "metadata": {},
   "source": [
    "### 1. ANN (Multilayer Perceptron)"
   ]
  },
  {
   "cell_type": "code",
   "execution_count": 19,
   "metadata": {},
   "outputs": [
    {
     "name": "stdout",
     "output_type": "stream",
     "text": [
      "Model: \"sequential\"\n",
      "_________________________________________________________________\n",
      " Layer (type)                Output Shape              Param #   \n",
      "=================================================================\n",
      " dense (Dense)               (None, 20)                120       \n",
      "                                                                 \n",
      " dense_1 (Dense)             (None, 20)                420       \n",
      "                                                                 \n",
      " dense_2 (Dense)             (None, 1)                 21        \n",
      "                                                                 \n",
      "=================================================================\n",
      "Total params: 561\n",
      "Trainable params: 561\n",
      "Non-trainable params: 0\n",
      "_________________________________________________________________\n"
     ]
    }
   ],
   "source": [
    "# Build the MLPRegressor model\n",
    "model_mlp = Sequential([\n",
    "    Dense(units=20, activation='relu', input_dim=X_train.shape[1]),\n",
    "    Dense(units=20, activation='relu'),\n",
    "    Dense(units=1)  # Output layer\n",
    "])\n",
    "\n",
    "# Compile the model\n",
    "model_mlp.compile(optimizer='adam', loss='mean_squared_error')\n",
    "\n",
    "# Print model summary\n",
    "model_mlp.summary()"
   ]
  },
  {
   "cell_type": "code",
   "execution_count": 20,
   "metadata": {},
   "outputs": [
    {
     "name": "stdout",
     "output_type": "stream",
     "text": [
      "Epoch 1/20\n",
      "10000/10000 [==============================] - 19s 2ms/step - loss: 109.6138 - val_loss: 0.9770\n",
      "Epoch 2/20\n",
      "10000/10000 [==============================] - 18s 2ms/step - loss: 0.6704 - val_loss: 0.5494\n",
      "Epoch 3/20\n",
      "10000/10000 [==============================] - 19s 2ms/step - loss: 0.4879 - val_loss: 0.4184\n",
      "Epoch 4/20\n",
      "10000/10000 [==============================] - 18s 2ms/step - loss: 0.4226 - val_loss: 0.3888\n",
      "Epoch 5/20\n",
      "10000/10000 [==============================] - 18s 2ms/step - loss: 0.3977 - val_loss: 0.3647\n",
      "Epoch 6/20\n",
      "10000/10000 [==============================] - 18s 2ms/step - loss: 0.3844 - val_loss: 0.3712\n",
      "Epoch 7/20\n",
      "10000/10000 [==============================] - 18s 2ms/step - loss: 0.3748 - val_loss: 0.3578\n",
      "Epoch 8/20\n",
      "10000/10000 [==============================] - 18s 2ms/step - loss: 0.3653 - val_loss: 0.3568\n",
      "Epoch 9/20\n",
      "10000/10000 [==============================] - 18s 2ms/step - loss: 0.3583 - val_loss: 0.3501\n",
      "Epoch 10/20\n",
      "10000/10000 [==============================] - 17s 2ms/step - loss: 0.3484 - val_loss: 0.3261\n",
      "Epoch 11/20\n",
      "10000/10000 [==============================] - 18s 2ms/step - loss: 0.3372 - val_loss: 0.3583\n",
      "Epoch 12/20\n",
      "10000/10000 [==============================] - 17s 2ms/step - loss: 0.3277 - val_loss: 0.3052\n",
      "Epoch 13/20\n",
      "10000/10000 [==============================] - 22s 2ms/step - loss: 0.3177 - val_loss: 0.2910\n",
      "Epoch 14/20\n",
      "10000/10000 [==============================] - 20s 2ms/step - loss: 0.3052 - val_loss: 0.2906\n",
      "Epoch 15/20\n",
      "10000/10000 [==============================] - 19s 2ms/step - loss: 0.2941 - val_loss: 0.2703\n",
      "Epoch 16/20\n",
      "10000/10000 [==============================] - 19s 2ms/step - loss: 0.2862 - val_loss: 0.2798\n",
      "Epoch 17/20\n",
      "10000/10000 [==============================] - 19s 2ms/step - loss: 0.2802 - val_loss: 0.2757\n",
      "Epoch 18/20\n",
      "10000/10000 [==============================] - 20s 2ms/step - loss: 0.2754 - val_loss: 0.2556\n",
      "Epoch 19/20\n",
      "10000/10000 [==============================] - 20s 2ms/step - loss: 0.2695 - val_loss: 0.2492\n",
      "Epoch 20/20\n",
      "10000/10000 [==============================] - 20s 2ms/step - loss: 0.2643 - val_loss: 0.2434\n"
     ]
    }
   ],
   "source": [
    "# Train the model\n",
    "history = model_mlp.fit(X_train, \n",
    "                    y_train, \n",
    "                    epochs=20, \n",
    "                    batch_size=64, \n",
    "                    verbose=1,\n",
    "                    validation_split=0.2,\n",
    "                    callbacks=[tf.keras.callbacks.EarlyStopping(monitor='val_loss', patience=5, restore_best_weights=True)])"
   ]
  },
  {
   "cell_type": "code",
   "execution_count": 21,
   "metadata": {},
   "outputs": [
    {
     "name": "stdout",
     "output_type": "stream",
     "text": [
      "6251/6251 [==============================] - 8s 1ms/step\n"
     ]
    }
   ],
   "source": [
    "# Evaluate the model on the test set\n",
    "y_pred_mlp = model_mlp.predict(X_test)"
   ]
  },
  {
   "cell_type": "code",
   "execution_count": 22,
   "metadata": {},
   "outputs": [
    {
     "name": "stdout",
     "output_type": "stream",
     "text": [
      "Mean Squared Error: 0.24799603781596258\n",
      "R-squared: 0.24799603781596258\n",
      "Mean Absolute Error: 0.24799603781596258\n"
     ]
    }
   ],
   "source": [
    "mse_mlp = mean_squared_error(y_test, y_pred_mlp)\n",
    "r2_mlp = r2_score(y_test, y_pred_mlp)\n",
    "mae_mlp = mean_absolute_error(y_test, y_pred_mlp)\n",
    "\n",
    "print(\"Mean Squared Error:\", mse_mlp)\n",
    "print(\"R-squared:\", mse_mlp)\n",
    "print(\"Mean Absolute Error:\", mse_mlp)"
   ]
  },
  {
   "cell_type": "code",
   "execution_count": 23,
   "metadata": {},
   "outputs": [
    {
     "data": {
      "image/png": "[encoded data removed]",
      "text/plain": [
       "<Figure size 432x288 with 1 Axes>"
      ]
     },
     "metadata": {
      "needs_background": "light"
     },
     "output_type": "display_data"
    }
   ],
   "source": [
    "plt.plot(history.history['val_loss'], label='Validation Loss')\n",
    "plt.xlabel('Trials')\n",
    "plt.ylabel('Validation Loss')\n",
    "plt.title('Validation Loss - MLP')\n",
    "plt.show()"
   ]
  },
  {
   "cell_type": "code",
   "execution_count": 24,
   "metadata": {},
   "outputs": [
    {
     "data": {
      "image/png": "[encoded data removed]",
      "text/plain": [
       "<Figure size 864x432 with 1 Axes>"
      ]
     },
     "metadata": {
      "needs_background": "light"
     },
     "output_type": "display_data"
    }
   ],
   "source": [
    "#Pricing error\n",
    "\n",
    "errors = y_test - y_pred_mlp.flatten() #Actual - Predicted values\n",
    "\n",
    "plt.figure(figsize=(12, 6))\n",
    "plt.hist(errors, bins=50, color='red', alpha=0.8)\n",
    "plt.xlabel('Prediction Error')\n",
    "plt.ylabel('Density')\n",
    "plt.title('Distribution of Prediction Errors - MLP')\n",
    "plt.grid(True)\n",
    "plt.show()"
   ]
  },
  {
   "cell_type": "markdown",
   "metadata": {},
   "source": [
    "### LSTM Model"
   ]
  },
  {
   "cell_type": "code",
   "execution_count": 42,
   "metadata": {},
   "outputs": [],
   "source": [
    "# Reshape input data for LSTM\n",
    "X_train_reshaped = X_train.reshape(X_train.shape[0], X_train.shape[1], 1)\n",
    "X_test_reshaped = X_test.reshape(X_test.shape[0], X_test.shape[1], 1)"
   ]
  },
  {
   "cell_type": "code",
   "execution_count": 43,
   "metadata": {},
   "outputs": [
    {
     "name": "stdout",
     "output_type": "stream",
     "text": [
      "Model: \"sequential_4\"\n",
      "_________________________________________________________________\n",
      " Layer (type)                Output Shape              Param #   \n",
      "=================================================================\n",
      " lstm_6 (LSTM)               (None, 5, 20)             1760      \n",
      "                                                                 \n",
      " lstm_7 (LSTM)               (None, 20)                3280      \n",
      "                                                                 \n",
      " dense_6 (Dense)             (None, 1)                 21        \n",
      "                                                                 \n",
      "=================================================================\n",
      "Total params: 5,061\n",
      "Trainable params: 5,061\n",
      "Non-trainable params: 0\n",
      "_________________________________________________________________\n"
     ]
    }
   ],
   "source": [
    "# Define the LSTM model\n",
    "model_lstm = Sequential([\n",
    "    LSTM(units=20, activation='relu', input_shape=(X_train_reshaped.shape[1], 1), return_sequences=True),\n",
    "    LSTM(units=20, activation='relu', return_sequences=False),Dense(units=1)\n",
    "])\n",
    "\n",
    "# Compile the model\n",
    "model_lstm.compile(optimizer=Adam(learning_rate=0.001), loss='mean_squared_error')\n",
    "\n",
    "# Print model summary\n",
    "model_lstm.summary()"
   ]
  },
  {
   "cell_type": "code",
   "execution_count": 44,
   "metadata": {},
   "outputs": [
    {
     "name": "stdout",
     "output_type": "stream",
     "text": [
      "Epoch 1/20\n",
      "10000/10000 [==============================] - 56s 5ms/step - loss: 72.6248 - val_loss: 2.5739\n",
      "Epoch 2/20\n",
      "10000/10000 [==============================] - 52s 5ms/step - loss: 1.7531 - val_loss: 1.9993\n",
      "Epoch 3/20\n",
      "10000/10000 [==============================] - 54s 5ms/step - loss: 1.2362 - val_loss: 0.8563\n",
      "Epoch 4/20\n",
      "10000/10000 [==============================] - 60s 6ms/step - loss: 1.0149 - val_loss: 0.6882\n",
      "Epoch 5/20\n",
      "10000/10000 [==============================] - 53s 5ms/step - loss: 0.8806 - val_loss: 0.6821\n",
      "Epoch 6/20\n",
      "10000/10000 [==============================] - 53s 5ms/step - loss: 0.7402 - val_loss: 0.7433\n",
      "Epoch 7/20\n",
      "10000/10000 [==============================] - 53s 5ms/step - loss: 0.5637 - val_loss: 0.6168\n",
      "Epoch 8/20\n",
      "10000/10000 [==============================] - 55s 6ms/step - loss: 0.4645 - val_loss: 0.2912\n",
      "Epoch 9/20\n",
      "10000/10000 [==============================] - 59s 6ms/step - loss: 0.3695 - val_loss: 0.2475\n",
      "Epoch 10/20\n",
      "10000/10000 [==============================] - 59s 6ms/step - loss: 0.2887 - val_loss: 0.5460\n",
      "Epoch 11/20\n",
      "10000/10000 [==============================] - 62s 6ms/step - loss: 0.2302 - val_loss: 0.1418\n",
      "Epoch 12/20\n",
      "10000/10000 [==============================] - 57s 6ms/step - loss: 0.1954 - val_loss: 0.1282\n",
      "Epoch 13/20\n",
      "10000/10000 [==============================] - 53s 5ms/step - loss: 0.1675 - val_loss: 0.0941\n",
      "Epoch 14/20\n",
      "10000/10000 [==============================] - 59s 6ms/step - loss: 0.1381 - val_loss: 0.1061\n",
      "Epoch 15/20\n",
      "10000/10000 [==============================] - 56s 6ms/step - loss: 0.1055 - val_loss: 0.0430\n",
      "Epoch 16/20\n",
      "10000/10000 [==============================] - 57s 6ms/step - loss: 0.0871 - val_loss: 0.0881\n",
      "Epoch 17/20\n",
      "10000/10000 [==============================] - 57s 6ms/step - loss: 0.0758 - val_loss: 0.0524\n",
      "Epoch 18/20\n",
      "10000/10000 [==============================] - 56s 6ms/step - loss: 0.0663 - val_loss: 0.0243\n",
      "Epoch 19/20\n",
      "10000/10000 [==============================] - 59s 6ms/step - loss: 0.0600 - val_loss: 0.2600\n",
      "Epoch 20/20\n",
      "10000/10000 [==============================] - 57s 6ms/step - loss: 0.0557 - val_loss: 0.0314\n"
     ]
    }
   ],
   "source": [
    "# Train the model\n",
    "history = model_lstm.fit(X_train, \n",
    "                    y_train, \n",
    "                    epochs=20, \n",
    "                    batch_size=64, \n",
    "                    verbose=1,\n",
    "                    validation_split=0.2,\n",
    "                    callbacks=[tf.keras.callbacks.EarlyStopping(monitor='val_loss', patience=5, restore_best_weights=True)])"
   ]
  },
  {
   "cell_type": "code",
   "execution_count": 45,
   "metadata": {},
   "outputs": [
    {
     "name": "stdout",
     "output_type": "stream",
     "text": [
      "6251/6251 [==============================] - 15s 2ms/step\n"
     ]
    }
   ],
   "source": [
    "# Evaluate the model on the test set\n",
    "y_pred_lstm = model_lstm.predict(X_test)"
   ]
  },
  {
   "cell_type": "code",
   "execution_count": 46,
   "metadata": {},
   "outputs": [
    {
     "name": "stdout",
     "output_type": "stream",
     "text": [
      "Mean Squared Error: 0.0317121350662811\n",
      "R-squared: 0.9999524621685604\n",
      "Mean Absolute Error: 0.1330638874980352\n"
     ]
    }
   ],
   "source": [
    "mse_lstm = mean_squared_error(y_test, y_pred_lstm)\n",
    "r2_lstm = r2_score(y_test, y_pred_lstm)\n",
    "mae_lstm = mean_absolute_error(y_test, y_pred_lstm)\n",
    "\n",
    "print(\"Mean Squared Error:\", mse_lstm)\n",
    "print(\"R-squared:\", r2_lstm)\n",
    "print(\"Mean Absolute Error:\", mae_lstm)"
   ]
  },
  {
   "cell_type": "code",
   "execution_count": 47,
   "metadata": {},
   "outputs": [
    {
     "data": {
      "image/png": "[encoded data removed]",
      "text/plain": [
       "<Figure size 432x288 with 1 Axes>"
      ]
     },
     "metadata": {
      "needs_background": "light"
     },
     "output_type": "display_data"
    }
   ],
   "source": [
    "#lSTM Validation loss\n",
    "\n",
    "plt.plot(history.history['val_loss'], label='Validation Loss')\n",
    "plt.xlabel('Trials')\n",
    "plt.ylabel('Validation Loss')\n",
    "plt.title('Validation Loss - LSTM')\n",
    "plt.show()"
   ]
  },
  {
   "cell_type": "code",
   "execution_count": 48,
   "metadata": {},
   "outputs": [
    {
     "data": {
      "image/png": "[encoded data removed]",
      "text/plain": [
       "<Figure size 864x432 with 1 Axes>"
      ]
     },
     "metadata": {
      "needs_background": "light"
     },
     "output_type": "display_data"
    }
   ],
   "source": [
    "#Pricing error\n",
    "\n",
    "errors_lstm = y_test - y_pred_lstm.flatten() #Actual - Predicted values\n",
    "\n",
    "plt.figure(figsize=(12, 6))\n",
    "plt.hist(errors_lstm, bins=50, color='red', alpha=0.8)\n",
    "plt.xlabel('Prediction Error')\n",
    "plt.ylabel('Density')\n",
    "plt.title('Distribution of Prediction Errors - LSTM')\n",
    "plt.grid(True)\n",
    "plt.show()"
   ]
  },
  {
   "cell_type": "markdown",
   "metadata": {},
   "source": [
    "### GRU Model"
   ]
  },
  {
   "cell_type": "code",
   "execution_count": 49,
   "metadata": {},
   "outputs": [
    {
     "name": "stdout",
     "output_type": "stream",
     "text": [
      "Model: \"sequential_5\"\n",
      "_________________________________________________________________\n",
      " Layer (type)                Output Shape              Param #   \n",
      "=================================================================\n",
      " gru (GRU)                   (None, 5, 20)             1380      \n",
      "                                                                 \n",
      " dense_7 (Dense)             (None, 5, 20)             420       \n",
      "                                                                 \n",
      " gru_1 (GRU)                 (None, 20)                2520      \n",
      "                                                                 \n",
      " dense_8 (Dense)             (None, 1)                 21        \n",
      "                                                                 \n",
      "=================================================================\n",
      "Total params: 4,341\n",
      "Trainable params: 4,341\n",
      "Non-trainable params: 0\n",
      "_________________________________________________________________\n"
     ]
    }
   ],
   "source": [
    "# Create a Sequential model\n",
    "model_GRU = Sequential([\n",
    "    GRU(units=20, activation='relu', input_shape=(X_train_reshaped.shape[1], 1), return_sequences=True),\n",
    "    Dense(units=20, activation='relu'),\n",
    "    GRU(units=20, activation='relu', return_sequences=False),\n",
    "    Dense(units=1)  # Output layer\n",
    "])\n",
    "\n",
    "# Compile the model\n",
    "model_GRU.compile(optimizer=Adam(learning_rate=0.001), loss='mean_squared_error')\n",
    "\n",
    "# Print model summary\n",
    "model_GRU.summary()\n"
   ]
  },
  {
   "cell_type": "code",
   "execution_count": 50,
   "metadata": {},
   "outputs": [
    {
     "name": "stdout",
     "output_type": "stream",
     "text": [
      "Epoch 1/20\n",
      "10000/10000 [==============================] - 54s 5ms/step - loss: 96.8604 - val_loss: 0.9128\n",
      "Epoch 2/20\n",
      "10000/10000 [==============================] - 59s 6ms/step - loss: 0.5295 - val_loss: 0.3305\n",
      "Epoch 3/20\n",
      "10000/10000 [==============================] - 60s 6ms/step - loss: 0.2851 - val_loss: 0.1952\n",
      "Epoch 4/20\n",
      "10000/10000 [==============================] - 57s 6ms/step - loss: 0.2054 - val_loss: 0.1301\n",
      "Epoch 5/20\n",
      "10000/10000 [==============================] - 52s 5ms/step - loss: 0.1649 - val_loss: 0.0790\n",
      "Epoch 6/20\n",
      "10000/10000 [==============================] - 52s 5ms/step - loss: 0.1376 - val_loss: 0.0515\n",
      "Epoch 7/20\n",
      "10000/10000 [==============================] - 52s 5ms/step - loss: 0.1137 - val_loss: 0.0439\n",
      "Epoch 8/20\n",
      "10000/10000 [==============================] - 52s 5ms/step - loss: 0.0982 - val_loss: 0.0440\n",
      "Epoch 9/20\n",
      "10000/10000 [==============================] - 56s 6ms/step - loss: 0.0861 - val_loss: 0.0526\n",
      "Epoch 10/20\n",
      "10000/10000 [==============================] - 58s 6ms/step - loss: 0.0776 - val_loss: 0.0284\n",
      "Epoch 11/20\n",
      "10000/10000 [==============================] - 57s 6ms/step - loss: 0.0723 - val_loss: 0.0868\n",
      "Epoch 12/20\n",
      "10000/10000 [==============================] - 56s 6ms/step - loss: 0.0645 - val_loss: 0.0331\n",
      "Epoch 13/20\n",
      "10000/10000 [==============================] - 58s 6ms/step - loss: 0.0594 - val_loss: 0.0260\n",
      "Epoch 14/20\n",
      "10000/10000 [==============================] - 51s 5ms/step - loss: 0.0576 - val_loss: 0.0334\n",
      "Epoch 15/20\n",
      "10000/10000 [==============================] - 54s 5ms/step - loss: 0.0513 - val_loss: 0.0222\n",
      "Epoch 16/20\n",
      "10000/10000 [==============================] - 56s 6ms/step - loss: 0.0477 - val_loss: 0.0147\n",
      "Epoch 17/20\n",
      "10000/10000 [==============================] - 56s 6ms/step - loss: 0.0457 - val_loss: 0.0649\n",
      "Epoch 18/20\n",
      "10000/10000 [==============================] - 51s 5ms/step - loss: 0.0419 - val_loss: 0.0225\n",
      "Epoch 19/20\n",
      "10000/10000 [==============================] - 51s 5ms/step - loss: 0.0406 - val_loss: 0.0877\n",
      "Epoch 20/20\n",
      "10000/10000 [==============================] - 53s 5ms/step - loss: 0.0367 - val_loss: 0.0146\n"
     ]
    }
   ],
   "source": [
    "# Train the model with validation split\n",
    "history = model_GRU.fit(X_train_reshaped, \n",
    "                    y_train, \n",
    "                    epochs=20, \n",
    "                    batch_size=64, \n",
    "                    verbose=1,\n",
    "                    validation_split=0.2,\n",
    "                    callbacks=[tf.keras.callbacks.EarlyStopping(monitor='val_loss', patience=5, restore_best_weights=True)])"
   ]
  },
  {
   "cell_type": "code",
   "execution_count": 51,
   "metadata": {},
   "outputs": [
    {
     "name": "stdout",
     "output_type": "stream",
     "text": [
      "6251/6251 [==============================] - 15s 2ms/step\n"
     ]
    }
   ],
   "source": [
    "# Evaluate the model on the test set\n",
    "y_pred_gru = model_GRU.predict(X_test)"
   ]
  },
  {
   "cell_type": "code",
   "execution_count": 52,
   "metadata": {},
   "outputs": [
    {
     "name": "stdout",
     "output_type": "stream",
     "text": [
      "Mean Squared Error: 0.014823461955938264\n",
      "R-squared: 0.999977779003705\n",
      "Mean Absolute Error: 0.09261748901058144\n"
     ]
    }
   ],
   "source": [
    "mse_gru = mean_squared_error(y_test, y_pred_gru)\n",
    "r2_gru = r2_score(y_test, y_pred_gru)\n",
    "mae_gru = mean_absolute_error(y_test, y_pred_gru)\n",
    "\n",
    "print(\"Mean Squared Error:\", mse_gru)\n",
    "print(\"R-squared:\", r2_gru)\n",
    "print(\"Mean Absolute Error:\", mae_gru)"
   ]
  },
  {
   "cell_type": "code",
   "execution_count": 53,
   "metadata": {
    "scrolled": true
   },
   "outputs": [
    {
     "data": {
      "image/png": "[encoded data removed]",
      "text/plain": [
       "<Figure size 432x288 with 1 Axes>"
      ]
     },
     "metadata": {
      "needs_background": "light"
     },
     "output_type": "display_data"
    }
   ],
   "source": [
    "#GRU Validation loss\n",
    "\n",
    "plt.plot(history.history['val_loss'], label='Validation Loss')\n",
    "plt.xlabel('Trials')\n",
    "plt.ylabel('Validation Loss')\n",
    "plt.title('Validation Loss - GRU')\n",
    "plt.show()"
   ]
  },
  {
   "cell_type": "code",
   "execution_count": 54,
   "metadata": {},
   "outputs": [
    {
     "data": {
      "image/png": "[encoded data removed]",
      "text/plain": [
       "<Figure size 864x432 with 1 Axes>"
      ]
     },
     "metadata": {
      "needs_background": "light"
     },
     "output_type": "display_data"
    }
   ],
   "source": [
    "#Pricing error\n",
    "\n",
    "errors_gru = y_test - y_pred_gru.flatten() #Actual - Predicted values\n",
    "\n",
    "plt.figure(figsize=(12, 6))\n",
    "plt.hist(errors_gru, bins=50, color='red', alpha=0.8)\n",
    "plt.xlabel('Prediction Error')\n",
    "plt.ylabel('Density')\n",
    "plt.title('Distribution of Prediction Errors - GRU')\n",
    "plt.grid(True)\n",
    "plt.show()"
   ]
  },
  {
   "cell_type": "markdown",
   "metadata": {},
   "source": [
    "## Sci-Kit Model"
   ]
  },
  {
   "cell_type": "markdown",
   "metadata": {},
   "source": [
    "### Multilayer Perceptron"
   ]
  },
  {
   "cell_type": "code",
   "execution_count": 114,
   "metadata": {},
   "outputs": [],
   "source": [
    "mlp = MLPRegressor(hidden_layer_sizes=(20,20),\n",
    "                   solver='adam',\n",
    "                   batch_size=64,\n",
    "                   learning_rate='constant',\n",
    "                   verbose=True,\n",
    "                   max_iter=20,\n",
    "                  ) "
   ]
  },
  {
   "cell_type": "code",
   "execution_count": 56,
   "metadata": {},
   "outputs": [
    {
     "name": "stdout",
     "output_type": "stream",
     "text": [
      "Iteration 1, loss = 54.35447606\n",
      "Iteration 2, loss = 0.38890823\n",
      "Iteration 3, loss = 0.25761478\n",
      "Iteration 4, loss = 0.20890135\n",
      "Iteration 5, loss = 0.15650373\n",
      "Iteration 6, loss = 0.12697780\n",
      "Iteration 7, loss = 0.10973830\n",
      "Iteration 8, loss = 0.10045963\n",
      "Iteration 9, loss = 0.09705409\n",
      "Iteration 10, loss = 0.09600369\n",
      "Iteration 11, loss = 0.09251063\n",
      "Iteration 12, loss = 0.08721629\n",
      "Iteration 13, loss = 0.08376197\n",
      "Iteration 14, loss = 0.07942875\n",
      "Iteration 15, loss = 0.07545413\n",
      "Iteration 16, loss = 0.07278131\n",
      "Iteration 17, loss = 0.07091509\n",
      "Iteration 18, loss = 0.06914620\n",
      "Iteration 19, loss = 0.06786874\n",
      "Iteration 20, loss = 0.06642802\n"
     ]
    },
    {
     "name": "stderr",
     "output_type": "stream",
     "text": [
      "C:\\Users\\Deepak\\anaconda3\\lib\\site-packages\\sklearn\\neural_network\\_multilayer_perceptron.py:686: ConvergenceWarning: Stochastic Optimizer: Maximum iterations (20) reached and the optimization hasn't converged yet.\n",
      "  warnings.warn(\n"
     ]
    }
   ],
   "source": [
    "mlp.fit(X_train, y_train)\n",
    "y_pred_mlp2 = mlp.predict(X_test)"
   ]
  },
  {
   "cell_type": "code",
   "execution_count": 57,
   "metadata": {},
   "outputs": [
    {
     "name": "stdout",
     "output_type": "stream",
     "text": [
      "Mean Squared Error (MSE): 0.12500842049789987\n",
      "R-squared (R2): 0.9998126070915835\n",
      "Mean Absolute Error (MAE): 0.2595130604223345\n"
     ]
    }
   ],
   "source": [
    "mse_mlp2 = mean_squared_error(y_test, y_pred_mlp2)\n",
    "r2_mlp2 = r2_score(y_test, y_pred_mlp2)\n",
    "mae_mlp2 = mean_absolute_error(y_test, y_pred_mlp2)\n",
    "\n",
    "# Print the scores\n",
    "print(\"Mean Squared Error (MSE):\", mse_mlp2)\n",
    "print(\"R-squared (R2):\", r2_mlp2)\n",
    "print(\"Mean Absolute Error (MAE):\", mae_mlp2)"
   ]
  },
  {
   "cell_type": "code",
   "execution_count": 58,
   "metadata": {},
   "outputs": [
    {
     "data": {
      "image/png": "[encoded data removed]",
      "text/plain": [
       "<Figure size 864x432 with 1 Axes>"
      ]
     },
     "metadata": {
      "needs_background": "light"
     },
     "output_type": "display_data"
    }
   ],
   "source": [
    "#Pricing error\n",
    "\n",
    "errors_gru = y_test - y_pred_mlp2 #Actual - Predicted values\n",
    "\n",
    "plt.figure(figsize=(12, 6))\n",
    "plt.hist(errors_gru, bins=50, color='red', alpha=0.8)\n",
    "plt.xlabel('Prediction Error')\n",
    "plt.ylabel('Density')\n",
    "plt.title('Distribution of Prediction Errors - MLP(Sci-Kit)')\n",
    "plt.grid(True)\n",
    "plt.show()"
   ]
  },
  {
   "cell_type": "markdown",
   "metadata": {},
   "source": [
    "### Metrics Comparison"
   ]
  },
  {
   "cell_type": "code",
   "execution_count": 204,
   "metadata": {},
   "outputs": [
    {
     "data": {
      "image/png": "[encoded data removed]",
      "text/plain": [
       "<Figure size 1008x432 with 1 Axes>"
      ]
     },
     "metadata": {
      "needs_background": "light"
     },
     "output_type": "display_data"
    }
   ],
   "source": [
    "types = ['MLP', 'LSTM', 'GRU', 'MLP-SciKit']\n",
    "mse_values = [mse_mlp, mse_lstm, mse_gru, mse_mlp2]  \n",
    "r2_values = [r2_mlp, r2_lstm, r2_gru, r2_mlp2]  \n",
    "mae_values = [mae_mlp, mae_lstm, mae_gru, mae_mlp2]\n",
    "\n",
    "x = np.arange(len(types))\n",
    "width = 0.15 #Bar width\n",
    "\n",
    "plt.figure(figsize=(14, 6))\n",
    "ax = plt.gca()\n",
    "\n",
    "# Create grouped bar chart\n",
    "ax.bar(x - width, mse_values, width, label='MSE')\n",
    "ax.bar(x, r2_values, width, label='R-squared')\n",
    "ax.bar(x + width, mae_values, width, label='MAE')\n",
    "\n",
    "ax.set_ylabel('Scores')\n",
    "ax.set_title('Comparison of Metrics for all 4 Models')\n",
    "ax.set_xticks(x)\n",
    "ax.set_xticklabels(types)\n",
    "ax.legend()\n",
    "\n",
    "# Show the plot\n",
    "plt.tight_layout()\n",
    "plt.show()\n"
   ]
  },
  {
   "cell_type": "code",
   "execution_count": 60,
   "metadata": {},
   "outputs": [
    {
     "data": {
      "text/html": [
       "<div>\n",
       "<style scoped>\n",
       "    .dataframe tbody tr th:only-of-type {\n",
       "        vertical-align: middle;\n",
       "    }\n",
       "\n",
       "    .dataframe tbody tr th {\n",
       "        vertical-align: top;\n",
       "    }\n",
       "\n",
       "    .dataframe thead th {\n",
       "        text-align: right;\n",
       "    }\n",
       "</style>\n",
       "<table border=\"1\" class=\"dataframe\">\n",
       "  <thead>\n",
       "    <tr style=\"text-align: right;\">\n",
       "      <th></th>\n",
       "      <th>Type</th>\n",
       "      <th>MSE</th>\n",
       "      <th>R2</th>\n",
       "      <th>MAE</th>\n",
       "    </tr>\n",
       "  </thead>\n",
       "  <tbody>\n",
       "    <tr>\n",
       "      <th>0</th>\n",
       "      <td>MLP</td>\n",
       "      <td>0.247996</td>\n",
       "      <td>0.999628</td>\n",
       "      <td>0.350771</td>\n",
       "    </tr>\n",
       "    <tr>\n",
       "      <th>1</th>\n",
       "      <td>LSTM</td>\n",
       "      <td>0.031712</td>\n",
       "      <td>0.999952</td>\n",
       "      <td>0.133064</td>\n",
       "    </tr>\n",
       "    <tr>\n",
       "      <th>2</th>\n",
       "      <td>GRU</td>\n",
       "      <td>0.014823</td>\n",
       "      <td>0.999978</td>\n",
       "      <td>0.092617</td>\n",
       "    </tr>\n",
       "    <tr>\n",
       "      <th>3</th>\n",
       "      <td>MLP-SciKit</td>\n",
       "      <td>0.125008</td>\n",
       "      <td>0.999813</td>\n",
       "      <td>0.259513</td>\n",
       "    </tr>\n",
       "  </tbody>\n",
       "</table>\n",
       "</div>"
      ],
      "text/plain": [
       "         Type       MSE        R2       MAE\n",
       "0         MLP  0.247996  0.999628  0.350771\n",
       "1        LSTM  0.031712  0.999952  0.133064\n",
       "2         GRU  0.014823  0.999978  0.092617\n",
       "3  MLP-SciKit  0.125008  0.999813  0.259513"
      ]
     },
     "execution_count": 60,
     "metadata": {},
     "output_type": "execute_result"
    }
   ],
   "source": [
    "Metrics = {\n",
    "    'Type': types,\n",
    "    'MSE': mse_values,\n",
    "    'R2': r2_values,\n",
    "    'MAE': mae_values\n",
    "}\n",
    "\n",
    "Metrics_df = pd.DataFrame(Metrics)\n",
    "Metrics_df"
   ]
  },
  {
   "cell_type": "markdown",
   "metadata": {},
   "source": [
    "## Scatter plot of GRU model"
   ]
  },
  {
   "cell_type": "code",
   "execution_count": 205,
   "metadata": {},
   "outputs": [
    {
     "data": {
      "image/png": "[encoded data removed]",
      "text/plain": [
       "<Figure size 576x432 with 1 Axes>"
      ]
     },
     "metadata": {
      "needs_background": "light"
     },
     "output_type": "display_data"
    }
   ],
   "source": [
    "# Create a scatter plot to visualize True and Predicted values\n",
    "plt.figure(figsize=(8, 6))\n",
    "plt.scatter(y_test, y_pred_gru.flatten(), color='red', label='Data Points')\n",
    "plt.xlabel('True Values')\n",
    "plt.ylabel('Predicted Values')\n",
    "plt.title('True v/s Predicted values - GRU - Simulated Data')\n",
    "plt.legend()\n",
    "plt.show()"
   ]
  },
  {
   "cell_type": "markdown",
   "metadata": {},
   "source": [
    "## Apply GRU model to predict real-world call prices"
   ]
  },
  {
   "cell_type": "code",
   "execution_count": 158,
   "metadata": {},
   "outputs": [],
   "source": [
    "SNP500.rename(columns={\n",
    "    'Stock Price': 'Stock',\n",
    "    'Strike Price': 'Strike',\n",
    "    'Maturity': 'Time',\n",
    "    'Volatility': 'sigma',\n",
    "    'Risk-free': 'r',\n",
    "}, inplace=True)"
   ]
  },
  {
   "cell_type": "code",
   "execution_count": 159,
   "metadata": {},
   "outputs": [],
   "source": [
    "X_actual = SNP500.drop('Call Price', axis=1).values\n",
    "y_actual = SNP500['Call Price'].values"
   ]
  },
  {
   "cell_type": "code",
   "execution_count": 160,
   "metadata": {},
   "outputs": [],
   "source": [
    "X_data = scaler.fit_transform(X_actual)"
   ]
  },
  {
   "cell_type": "code",
   "execution_count": 161,
   "metadata": {},
   "outputs": [
    {
     "name": "stdout",
     "output_type": "stream",
     "text": [
      "1281/1281 [==============================] - 5s 4ms/step\n",
      "Mean Squared Error (MSE): 14398.91154987027\n",
      "R-squared (R2): 0.06599036945293968\n",
      "Mean Absolute Error (MAE): 58.87092099420665\n"
     ]
    }
   ],
   "source": [
    "# Evaluate the model on the test set\n",
    "y_pred_actual = model_GRU.predict(X_data)\n",
    "\n",
    "mse_actual = mean_squared_error(y_actual, y_pred_actual)\n",
    "r2_actual = r2_score(y_actual, y_pred_actual)\n",
    "mae_actual = mean_absolute_error(y_actual, y_pred_actual)\n",
    "\n",
    "# Print the scores\n",
    "print(\"Mean Squared Error (MSE):\", mse_actual)\n",
    "print(\"R-squared (R2):\", r2_actual)\n",
    "print(\"Mean Absolute Error (MAE):\", mae_actual)"
   ]
  },
  {
   "cell_type": "code",
   "execution_count": 207,
   "metadata": {},
   "outputs": [
    {
     "data": {
      "image/png": "[encoded data removed]",
      "text/plain": [
       "<Figure size 576x432 with 1 Axes>"
      ]
     },
     "metadata": {
      "needs_background": "light"
     },
     "output_type": "display_data"
    }
   ],
   "source": [
    "# Create a scatter plot to visualize True and Predicted values\n",
    "plt.figure(figsize=(8, 6))\n",
    "plt.scatter(y_actual, y_pred_actual.flatten(), color='blue', label='Data Points')\n",
    "plt.xlabel('True Values')\n",
    "plt.ylabel('Predicted Values')\n",
    "plt.title('True v/s Predicted values - GRU - S&P500')\n",
    "plt.legend()\n",
    "plt.show()"
   ]
  },
  {
   "cell_type": "code",
   "execution_count": 211,
   "metadata": {},
   "outputs": [
    {
     "data": {
      "image/png": "[encoded data removed]",
      "text/plain": [
       "<Figure size 864x432 with 1 Axes>"
      ]
     },
     "metadata": {
      "needs_background": "light"
     },
     "output_type": "display_data"
    }
   ],
   "source": [
    "#Pricing error\n",
    "\n",
    "errors_gru_snp500 = y_actual - y_pred_actual.flatten() #Actual - Predicted values\n",
    "\n",
    "plt.figure(figsize=(12, 6))\n",
    "plt.hist(errors_gru_snp500, bins=50, color='blue', alpha=0.8)\n",
    "plt.xlabel('Pricing Error')\n",
    "plt.ylabel('Density')\n",
    "plt.title('Distribution of Pricing Errors - GRU - SNP500')\n",
    "plt.grid(True)\n",
    "plt.show()"
   ]
  },
  {
   "cell_type": "markdown",
   "metadata": {},
   "source": [
    "## Train Real-World data for Black-Scholes"
   ]
  },
  {
   "cell_type": "code",
   "execution_count": 163,
   "metadata": {},
   "outputs": [],
   "source": [
    "#Create Black-Scholes values for real-world data\n",
    "\n",
    "SNP500['BS-Real'] = BSM(SNP500['Stock'], SNP500['Strike'], SNP500['r'], SNP500['sigma'], T=SNP500['Time'])"
   ]
  },
  {
   "cell_type": "code",
   "execution_count": 164,
   "metadata": {},
   "outputs": [
    {
     "data": {
      "text/html": [
       "<div>\n",
       "<style scoped>\n",
       "    .dataframe tbody tr th:only-of-type {\n",
       "        vertical-align: middle;\n",
       "    }\n",
       "\n",
       "    .dataframe tbody tr th {\n",
       "        vertical-align: top;\n",
       "    }\n",
       "\n",
       "    .dataframe thead th {\n",
       "        text-align: right;\n",
       "    }\n",
       "</style>\n",
       "<table border=\"1\" class=\"dataframe\">\n",
       "  <thead>\n",
       "    <tr style=\"text-align: right;\">\n",
       "      <th></th>\n",
       "      <th>Stock</th>\n",
       "      <th>Strike</th>\n",
       "      <th>Time</th>\n",
       "      <th>sigma</th>\n",
       "      <th>r</th>\n",
       "      <th>Call Price</th>\n",
       "      <th>BS-Real</th>\n",
       "    </tr>\n",
       "  </thead>\n",
       "  <tbody>\n",
       "    <tr>\n",
       "      <th>0</th>\n",
       "      <td>102.87</td>\n",
       "      <td>70.0</td>\n",
       "      <td>0.009096</td>\n",
       "      <td>0.2177</td>\n",
       "      <td>0.0423</td>\n",
       "      <td>33.17</td>\n",
       "      <td>32.896927</td>\n",
       "    </tr>\n",
       "    <tr>\n",
       "      <th>1</th>\n",
       "      <td>102.87</td>\n",
       "      <td>94.0</td>\n",
       "      <td>0.009096</td>\n",
       "      <td>0.2177</td>\n",
       "      <td>0.0423</td>\n",
       "      <td>8.93</td>\n",
       "      <td>8.906162</td>\n",
       "    </tr>\n",
       "    <tr>\n",
       "      <th>2</th>\n",
       "      <td>102.87</td>\n",
       "      <td>95.0</td>\n",
       "      <td>0.009096</td>\n",
       "      <td>0.2177</td>\n",
       "      <td>0.0423</td>\n",
       "      <td>7.98</td>\n",
       "      <td>7.906572</td>\n",
       "    </tr>\n",
       "    <tr>\n",
       "      <th>3</th>\n",
       "      <td>102.87</td>\n",
       "      <td>96.0</td>\n",
       "      <td>0.009096</td>\n",
       "      <td>0.2177</td>\n",
       "      <td>0.0423</td>\n",
       "      <td>6.95</td>\n",
       "      <td>6.907147</td>\n",
       "    </tr>\n",
       "    <tr>\n",
       "      <th>4</th>\n",
       "      <td>102.87</td>\n",
       "      <td>97.0</td>\n",
       "      <td>0.009096</td>\n",
       "      <td>0.2177</td>\n",
       "      <td>0.0423</td>\n",
       "      <td>6.05</td>\n",
       "      <td>5.908653</td>\n",
       "    </tr>\n",
       "    <tr>\n",
       "      <th>...</th>\n",
       "      <td>...</td>\n",
       "      <td>...</td>\n",
       "      <td>...</td>\n",
       "      <td>...</td>\n",
       "      <td>...</td>\n",
       "      <td>...</td>\n",
       "      <td>...</td>\n",
       "    </tr>\n",
       "    <tr>\n",
       "      <th>41791</th>\n",
       "      <td>188.03</td>\n",
       "      <td>180.0</td>\n",
       "      <td>0.391960</td>\n",
       "      <td>0.2000</td>\n",
       "      <td>0.0423</td>\n",
       "      <td>17.05</td>\n",
       "      <td>15.639493</td>\n",
       "    </tr>\n",
       "    <tr>\n",
       "      <th>41792</th>\n",
       "      <td>188.03</td>\n",
       "      <td>185.0</td>\n",
       "      <td>0.391960</td>\n",
       "      <td>0.2000</td>\n",
       "      <td>0.0423</td>\n",
       "      <td>13.80</td>\n",
       "      <td>12.586041</td>\n",
       "    </tr>\n",
       "    <tr>\n",
       "      <th>41793</th>\n",
       "      <td>188.03</td>\n",
       "      <td>160.0</td>\n",
       "      <td>1.388537</td>\n",
       "      <td>0.2000</td>\n",
       "      <td>0.0423</td>\n",
       "      <td>44.00</td>\n",
       "      <td>40.883727</td>\n",
       "    </tr>\n",
       "    <tr>\n",
       "      <th>41794</th>\n",
       "      <td>188.03</td>\n",
       "      <td>180.0</td>\n",
       "      <td>1.388537</td>\n",
       "      <td>0.2000</td>\n",
       "      <td>0.0423</td>\n",
       "      <td>30.95</td>\n",
       "      <td>27.478380</td>\n",
       "    </tr>\n",
       "    <tr>\n",
       "      <th>41795</th>\n",
       "      <td>188.03</td>\n",
       "      <td>185.0</td>\n",
       "      <td>1.388537</td>\n",
       "      <td>0.2000</td>\n",
       "      <td>0.0423</td>\n",
       "      <td>27.80</td>\n",
       "      <td>24.640969</td>\n",
       "    </tr>\n",
       "  </tbody>\n",
       "</table>\n",
       "<p>40975 rows × 7 columns</p>\n",
       "</div>"
      ],
      "text/plain": [
       "        Stock  Strike      Time   sigma       r  Call Price    BS-Real\n",
       "0      102.87    70.0  0.009096  0.2177  0.0423       33.17  32.896927\n",
       "1      102.87    94.0  0.009096  0.2177  0.0423        8.93   8.906162\n",
       "2      102.87    95.0  0.009096  0.2177  0.0423        7.98   7.906572\n",
       "3      102.87    96.0  0.009096  0.2177  0.0423        6.95   6.907147\n",
       "4      102.87    97.0  0.009096  0.2177  0.0423        6.05   5.908653\n",
       "...       ...     ...       ...     ...     ...         ...        ...\n",
       "41791  188.03   180.0  0.391960  0.2000  0.0423       17.05  15.639493\n",
       "41792  188.03   185.0  0.391960  0.2000  0.0423       13.80  12.586041\n",
       "41793  188.03   160.0  1.388537  0.2000  0.0423       44.00  40.883727\n",
       "41794  188.03   180.0  1.388537  0.2000  0.0423       30.95  27.478380\n",
       "41795  188.03   185.0  1.388537  0.2000  0.0423       27.80  24.640969\n",
       "\n",
       "[40975 rows x 7 columns]"
      ]
     },
     "execution_count": 164,
     "metadata": {},
     "output_type": "execute_result"
    }
   ],
   "source": [
    "SNP500"
   ]
  },
  {
   "cell_type": "code",
   "execution_count": 312,
   "metadata": {},
   "outputs": [],
   "source": [
    "X_real = SNP500.drop(columns=['Call Price','BS-Real'])\n",
    "Y_real = SNP500['Call Price']\n",
    "Y_BS = SNP500['BS-Real']"
   ]
  },
  {
   "cell_type": "code",
   "execution_count": 313,
   "metadata": {},
   "outputs": [],
   "source": [
    "X_real_scaled = scaler.fit_transform(X_real)"
   ]
  },
  {
   "cell_type": "code",
   "execution_count": 314,
   "metadata": {},
   "outputs": [],
   "source": [
    "# Reshape input data for GRU\n",
    "X_train_reshaped_real = X_real_scaled.reshape(X_real_scaled.shape[0], X_real_scaled.shape[1], 1)"
   ]
  },
  {
   "cell_type": "markdown",
   "metadata": {},
   "source": [
    "## GRU Model trained using SNP500 options data"
   ]
  },
  {
   "cell_type": "code",
   "execution_count": 315,
   "metadata": {},
   "outputs": [
    {
     "name": "stdout",
     "output_type": "stream",
     "text": [
      "Model: \"sequential_5\"\n",
      "_________________________________________________________________\n",
      " Layer (type)                Output Shape              Param #   \n",
      "=================================================================\n",
      " gru_10 (GRU)                (None, 5, 100)            30900     \n",
      "                                                                 \n",
      " dense_9 (Dense)             (None, 5, 100)            10100     \n",
      "                                                                 \n",
      " gru_11 (GRU)                (None, 100)               60600     \n",
      "                                                                 \n",
      " dense_10 (Dense)            (None, 1)                 101       \n",
      "                                                                 \n",
      "=================================================================\n",
      "Total params: 101,701\n",
      "Trainable params: 101,701\n",
      "Non-trainable params: 0\n",
      "_________________________________________________________________\n"
     ]
    }
   ],
   "source": [
    "# Create a Sequential model\n",
    "model_GRU_real = Sequential([\n",
    "    GRU(units=100, activation='relu', input_shape=(X_train_reshaped_real.shape[1], 1), return_sequences=True),\n",
    "    Dense(units=100, activation='relu'),\n",
    "    GRU(units=100, activation='relu', return_sequences=False),\n",
    "    Dense(units=1)  # Output layer\n",
    "])\n",
    "\n",
    "# Compile the model\n",
    "model_GRU_real.compile(optimizer=Adam(learning_rate=0.001), loss='mean_squared_error')\n",
    "\n",
    "# Print model summary\n",
    "model_GRU_real.summary()\n"
   ]
  },
  {
   "cell_type": "code",
   "execution_count": 316,
   "metadata": {},
   "outputs": [
    {
     "name": "stdout",
     "output_type": "stream",
     "text": [
      "Epoch 1/100\n",
      "2049/2049 [==============================] - 43s 18ms/step - loss: 12174.7334 - val_loss: 3754.1660\n",
      "Epoch 2/100\n",
      "2049/2049 [==============================] - 35s 17ms/step - loss: 10777.2031 - val_loss: 2777.4985\n",
      "Epoch 3/100\n",
      "2049/2049 [==============================] - 38s 19ms/step - loss: 6707.9492 - val_loss: 2204.8992\n",
      "Epoch 4/100\n",
      "2049/2049 [==============================] - 39s 19ms/step - loss: 1253.5013 - val_loss: 97.2619\n",
      "Epoch 5/100\n",
      "2049/2049 [==============================] - 39s 19ms/step - loss: 405.9854 - val_loss: 697.4069\n",
      "Epoch 6/100\n",
      "2049/2049 [==============================] - 36s 18ms/step - loss: 412.2739 - val_loss: 55.0285\n",
      "Epoch 7/100\n",
      "2049/2049 [==============================] - 35s 17ms/step - loss: 127.8169 - val_loss: 68.2051\n",
      "Epoch 8/100\n",
      "2049/2049 [==============================] - 36s 18ms/step - loss: 167.7648 - val_loss: 26.5210\n",
      "Epoch 9/100\n",
      "2049/2049 [==============================] - 36s 17ms/step - loss: 373.4161 - val_loss: 66.7714\n",
      "Epoch 10/100\n",
      "2049/2049 [==============================] - 38s 19ms/step - loss: 51.7103 - val_loss: 18.9423\n",
      "Epoch 11/100\n",
      "2049/2049 [==============================] - 42s 20ms/step - loss: 186.2779 - val_loss: 11.7132\n",
      "Epoch 12/100\n",
      "2049/2049 [==============================] - 43s 21ms/step - loss: 81.3939 - val_loss: 52.2405\n",
      "Epoch 13/100\n",
      "2049/2049 [==============================] - 28s 14ms/step - loss: 125.8299 - val_loss: 9.7571\n",
      "Epoch 14/100\n",
      "2049/2049 [==============================] - 38s 18ms/step - loss: 74.8444 - val_loss: 84.9323\n",
      "Epoch 15/100\n",
      "2049/2049 [==============================] - 31s 15ms/step - loss: 134.9743 - val_loss: 9.2930\n",
      "Epoch 16/100\n",
      "2049/2049 [==============================] - 26s 13ms/step - loss: 103.4846 - val_loss: 8.8842\n",
      "Epoch 17/100\n",
      "2049/2049 [==============================] - 26s 13ms/step - loss: 78.5114 - val_loss: 152.7964\n",
      "Epoch 18/100\n",
      "2049/2049 [==============================] - 30s 15ms/step - loss: 67.9961 - val_loss: 9.7423\n",
      "Epoch 19/100\n",
      "2049/2049 [==============================] - 35s 17ms/step - loss: 73.1906 - val_loss: 10.2062\n",
      "Epoch 20/100\n",
      "2049/2049 [==============================] - 37s 18ms/step - loss: 96.0016 - val_loss: 9.5721\n",
      "Epoch 21/100\n",
      "2049/2049 [==============================] - 33s 16ms/step - loss: 198.7908 - val_loss: 31.8491\n",
      "Epoch 22/100\n",
      "2049/2049 [==============================] - 32s 16ms/step - loss: 23.4775 - val_loss: 26.0857\n",
      "Epoch 23/100\n",
      "2049/2049 [==============================] - 30s 14ms/step - loss: 70.2532 - val_loss: 24.8815\n",
      "Epoch 24/100\n",
      "2049/2049 [==============================] - 31s 15ms/step - loss: 83.5240 - val_loss: 158.0837\n",
      "Epoch 25/100\n",
      "2049/2049 [==============================] - 29s 14ms/step - loss: 54.2184 - val_loss: 12.4906\n",
      "Epoch 26/100\n",
      "2049/2049 [==============================] - 37s 18ms/step - loss: 52.1379 - val_loss: 92.1981\n"
     ]
    }
   ],
   "source": [
    "# Train the model with validation split\n",
    "history = model_GRU_real.fit(X_train_reshaped_real, \n",
    "                    Y_BS, \n",
    "                    epochs=100, \n",
    "                    batch_size=16, \n",
    "                    verbose=1,\n",
    "                    validation_split=0.2,\n",
    "                    callbacks=[tf.keras.callbacks.EarlyStopping(monitor='val_loss', patience=10, restore_best_weights=True)])"
   ]
  },
  {
   "cell_type": "code",
   "execution_count": 317,
   "metadata": {},
   "outputs": [
    {
     "data": {
      "image/png": "[encoded data removed]",
      "text/plain": [
       "<Figure size 432x288 with 1 Axes>"
      ]
     },
     "metadata": {
      "needs_background": "light"
     },
     "output_type": "display_data"
    }
   ],
   "source": [
    "#GRU Validation loss\n",
    "\n",
    "plt.plot(history.history['val_loss'], label='Validation Loss')\n",
    "plt.xlabel('Trials')\n",
    "plt.ylabel('Validation Loss')\n",
    "plt.title('Validation Loss - GRU - S&P500')\n",
    "plt.show()"
   ]
  },
  {
   "cell_type": "code",
   "execution_count": 318,
   "metadata": {},
   "outputs": [
    {
     "data": {
      "image/png": "[encoded data removed]",
      "text/plain": [
       "<Figure size 720x432 with 1 Axes>"
      ]
     },
     "metadata": {
      "needs_background": "light"
     },
     "output_type": "display_data"
    }
   ],
   "source": [
    "# Extract training and validation loss (or other metrics) from the history.\n",
    "training_loss = history.history['loss']\n",
    "validation_loss = history.history['val_loss']\n",
    "\n",
    "# Create a range of epochs for the x-axis.\n",
    "epochs = np.arange(1, len(training_loss) + 1)\n",
    "\n",
    "# Plot the training and validation loss.\n",
    "plt.figure(figsize=(10, 6))\n",
    "plt.plot(epochs, training_loss, 'b', label='Training Loss')\n",
    "plt.plot(epochs, validation_loss, 'r', label='Validation Loss')\n",
    "plt.title('Training and Validation Loss')\n",
    "plt.xlabel('Epochs')\n",
    "plt.ylabel('Loss')\n",
    "plt.legend()\n",
    "plt.grid(True)\n",
    "plt.show()"
   ]
  },
  {
   "cell_type": "code",
   "execution_count": 319,
   "metadata": {},
   "outputs": [
    {
     "name": "stdout",
     "output_type": "stream",
     "text": [
      "1281/1281 [==============================] - 13s 10ms/step\n"
     ]
    }
   ],
   "source": [
    "Y_gru_bs = model_GRU_real.predict(X_real_scaled)"
   ]
  },
  {
   "cell_type": "code",
   "execution_count": 320,
   "metadata": {},
   "outputs": [
    {
     "name": "stdout",
     "output_type": "stream",
     "text": [
      "Mean Squared Error (MSE): 11.337086716324208\n",
      "R-squared (R2): 0.9993525066517605\n",
      "Mean Absolute Error (MAE): 2.1356789108358254\n"
     ]
    }
   ],
   "source": [
    "# Print the scores\n",
    "print(\"Mean Squared Error (MSE):\", mean_squared_error(Y_BS, Y_gru_bs))\n",
    "print(\"R-squared (R2):\", r2_score(Y_BS, Y_gru_bs))\n",
    "print(\"Mean Absolute Error (MAE):\", mean_absolute_error(Y_BS, Y_gru_bs))"
   ]
  },
  {
   "cell_type": "markdown",
   "metadata": {},
   "source": [
    "### GRU Compare real call values"
   ]
  },
  {
   "cell_type": "code",
   "execution_count": 321,
   "metadata": {},
   "outputs": [
    {
     "name": "stdout",
     "output_type": "stream",
     "text": [
      "Mean Squared Error (MSE): 1301.4881863154005\n",
      "R-squared (R2): 0.9267532015304667\n",
      "Mean Absolute Error (MAE): 7.55735556431387\n"
     ]
    }
   ],
   "source": [
    "#Prediction against real values\n",
    "\n",
    "# Print the scores\n",
    "print(\"Mean Squared Error (MSE):\", mean_squared_error(Y_gru_bs, Y_real))\n",
    "print(\"R-squared (R2):\", r2_score(Y_gru_bs, Y_real))\n",
    "print(\"Mean Absolute Error (MAE):\", mean_absolute_error(Y_gru_bs, Y_real))"
   ]
  },
  {
   "cell_type": "code",
   "execution_count": 322,
   "metadata": {},
   "outputs": [
    {
     "data": {
      "image/png": "[encoded data removed]",
      "text/plain": [
       "<Figure size 576x432 with 1 Axes>"
      ]
     },
     "metadata": {
      "needs_background": "light"
     },
     "output_type": "display_data"
    }
   ],
   "source": [
    "# Create a scatter plot to visualize True and Predicted values\n",
    "plt.figure(figsize=(8, 6))\n",
    "plt.scatter(Y_real, Y_gru_bs.flatten(), color='red', label='Data Points')\n",
    "plt.xlabel('True Values')\n",
    "plt.ylabel('Predicted Values')\n",
    "plt.title('True Call prices v/s BS call prices - GRU - S&P500')\n",
    "plt.legend()\n",
    "plt.show()"
   ]
  },
  {
   "cell_type": "code",
   "execution_count": 323,
   "metadata": {},
   "outputs": [
    {
     "data": {
      "image/png": "[encoded data removed]",
      "text/plain": [
       "<Figure size 864x432 with 1 Axes>"
      ]
     },
     "metadata": {
      "needs_background": "light"
     },
     "output_type": "display_data"
    }
   ],
   "source": [
    "#Pricing error\n",
    "\n",
    "errors_gru_bs_real = Y_real - Y_gru_bs.flatten() #Actual - Predicted values\n",
    "\n",
    "plt.figure(figsize=(12, 6))\n",
    "plt.hist(errors_gru_bs_real, bins=50, color='red', alpha=0.8)\n",
    "plt.xlabel('Prediction Error')\n",
    "plt.ylabel('Density')\n",
    "plt.title('Distribution of Pricing Errors - GRU (Real Call Values)')\n",
    "plt.grid(True)\n",
    "plt.show()"
   ]
  },
  {
   "cell_type": "markdown",
   "metadata": {},
   "source": [
    "## Test on unseen dataset - 05/07/2023 Scrapped data"
   ]
  },
  {
   "cell_type": "code",
   "execution_count": 286,
   "metadata": {},
   "outputs": [
    {
     "data": {
      "text/html": [
       "<div>\n",
       "<style scoped>\n",
       "    .dataframe tbody tr th:only-of-type {\n",
       "        vertical-align: middle;\n",
       "    }\n",
       "\n",
       "    .dataframe tbody tr th {\n",
       "        vertical-align: top;\n",
       "    }\n",
       "\n",
       "    .dataframe thead th {\n",
       "        text-align: right;\n",
       "    }\n",
       "</style>\n",
       "<table border=\"1\" class=\"dataframe\">\n",
       "  <thead>\n",
       "    <tr style=\"text-align: right;\">\n",
       "      <th></th>\n",
       "      <th>Stock Price</th>\n",
       "      <th>Strike Price</th>\n",
       "      <th>Maturity</th>\n",
       "      <th>Dividends</th>\n",
       "      <th>Volatility</th>\n",
       "      <th>Risk-free</th>\n",
       "      <th>Call Price</th>\n",
       "      <th>Stock Name</th>\n",
       "    </tr>\n",
       "  </thead>\n",
       "  <tbody>\n",
       "    <tr>\n",
       "      <th>0</th>\n",
       "      <td>101.39</td>\n",
       "      <td>80.0</td>\n",
       "      <td>0.009007</td>\n",
       "      <td>0.0598</td>\n",
       "      <td>0.2811</td>\n",
       "      <td>0.0381</td>\n",
       "      <td>21.50</td>\n",
       "      <td>MMM</td>\n",
       "    </tr>\n",
       "    <tr>\n",
       "      <th>1</th>\n",
       "      <td>101.39</td>\n",
       "      <td>85.0</td>\n",
       "      <td>0.009007</td>\n",
       "      <td>0.0598</td>\n",
       "      <td>0.2811</td>\n",
       "      <td>0.0381</td>\n",
       "      <td>16.35</td>\n",
       "      <td>MMM</td>\n",
       "    </tr>\n",
       "    <tr>\n",
       "      <th>2</th>\n",
       "      <td>101.39</td>\n",
       "      <td>89.0</td>\n",
       "      <td>0.009007</td>\n",
       "      <td>0.0598</td>\n",
       "      <td>0.2811</td>\n",
       "      <td>0.0381</td>\n",
       "      <td>12.70</td>\n",
       "      <td>MMM</td>\n",
       "    </tr>\n",
       "    <tr>\n",
       "      <th>3</th>\n",
       "      <td>101.39</td>\n",
       "      <td>90.0</td>\n",
       "      <td>0.009007</td>\n",
       "      <td>0.0598</td>\n",
       "      <td>0.2811</td>\n",
       "      <td>0.0381</td>\n",
       "      <td>11.35</td>\n",
       "      <td>MMM</td>\n",
       "    </tr>\n",
       "    <tr>\n",
       "      <th>4</th>\n",
       "      <td>101.39</td>\n",
       "      <td>92.0</td>\n",
       "      <td>0.009007</td>\n",
       "      <td>0.0598</td>\n",
       "      <td>0.2811</td>\n",
       "      <td>0.0381</td>\n",
       "      <td>8.70</td>\n",
       "      <td>MMM</td>\n",
       "    </tr>\n",
       "  </tbody>\n",
       "</table>\n",
       "</div>"
      ],
      "text/plain": [
       "   Stock Price  Strike Price  Maturity  Dividends  Volatility  Risk-free  \\\n",
       "0       101.39          80.0  0.009007     0.0598      0.2811     0.0381   \n",
       "1       101.39          85.0  0.009007     0.0598      0.2811     0.0381   \n",
       "2       101.39          89.0  0.009007     0.0598      0.2811     0.0381   \n",
       "3       101.39          90.0  0.009007     0.0598      0.2811     0.0381   \n",
       "4       101.39          92.0  0.009007     0.0598      0.2811     0.0381   \n",
       "\n",
       "   Call Price Stock Name  \n",
       "0       21.50        MMM  \n",
       "1       16.35        MMM  \n",
       "2       12.70        MMM  \n",
       "3       11.35        MMM  \n",
       "4        8.70        MMM  "
      ]
     },
     "execution_count": 286,
     "metadata": {},
     "output_type": "execute_result"
    }
   ],
   "source": [
    "# Provide the correct path to your CSV file\n",
    "csv_file_path = 'SNP.csv'\n",
    "\n",
    "# Read the CSV file into a dataframe\n",
    "Test_data = pd.read_csv(csv_file_path)\n",
    "\n",
    "# Now you can use the imported_df dataframe in your program\n",
    "Test_data.head()"
   ]
  },
  {
   "cell_type": "code",
   "execution_count": 287,
   "metadata": {},
   "outputs": [],
   "source": [
    "Test_data = Test_data[Test_data['Stock Price'] > Test_data['Strike Price']] #in-the money calls\n",
    "Test_data = Test_data.dropna()"
   ]
  },
  {
   "cell_type": "code",
   "execution_count": 288,
   "metadata": {},
   "outputs": [],
   "source": [
    "X_TEST = Test_data.drop(columns=['Call Price','Stock Name','Dividends'])\n",
    "Y_TEST = Test_data['Call Price']\n",
    "X_TEST_SCALED = scaler.fit_transform(X_TEST)"
   ]
  },
  {
   "cell_type": "code",
   "execution_count": 289,
   "metadata": {},
   "outputs": [
    {
     "name": "stdout",
     "output_type": "stream",
     "text": [
      "650/650 [==============================] - 7s 10ms/step\n"
     ]
    }
   ],
   "source": [
    "BSM_PREDICTED = model_GRU_real.predict(X_TEST_SCALED)"
   ]
  },
  {
   "cell_type": "code",
   "execution_count": 290,
   "metadata": {},
   "outputs": [
    {
     "name": "stdout",
     "output_type": "stream",
     "text": [
      "Mean Squared Error (MSE): 4350.990703058678\n",
      "R-squared (R2): 0.8273934494425506\n",
      "Mean Absolute Error (MAE): 17.014679180799853\n"
     ]
    }
   ],
   "source": [
    "# Print the scores\n",
    "print(\"Mean Squared Error (MSE):\", mean_squared_error(Y_TEST, BSM_PREDICTED))\n",
    "print(\"R-squared (R2):\", r2_score(Y_TEST, BSM_PREDICTED))\n",
    "print(\"Mean Absolute Error (MAE):\", mean_absolute_error(Y_TEST, BSM_PREDICTED))"
   ]
  },
  {
   "cell_type": "code",
   "execution_count": 302,
   "metadata": {},
   "outputs": [
    {
     "data": {
      "image/png": "[encoded data removed]",
      "text/plain": [
       "<Figure size 576x432 with 1 Axes>"
      ]
     },
     "metadata": {
      "needs_background": "light"
     },
     "output_type": "display_data"
    }
   ],
   "source": [
    "# Create a scatter plot to visualize True and Predicted values\n",
    "plt.figure(figsize=(8, 6))\n",
    "plt.scatter(Y_TEST, BSM_PREDICTED, color='blue', label='Data Points')\n",
    "plt.xlabel('True Values')\n",
    "plt.ylabel('Predicted Values')\n",
    "plt.title('True Call Prices v/s BS Call Prices - GRU - Unseen Data')\n",
    "plt.legend()\n",
    "plt.show()"
   ]
  },
  {
   "cell_type": "code",
   "execution_count": 303,
   "metadata": {},
   "outputs": [
    {
     "data": {
      "image/png": "[encoded data removed]",
      "text/plain": [
       "<Figure size 864x432 with 1 Axes>"
      ]
     },
     "metadata": {
      "needs_background": "light"
     },
     "output_type": "display_data"
    }
   ],
   "source": [
    "#Pricing error\n",
    "\n",
    "errors_NEW = Y_TEST - BSM_PREDICTED.flatten() #Actual - Predicted values\n",
    "\n",
    "plt.figure(figsize=(12, 6))\n",
    "plt.hist(errors_NEW, bins=50, color='blue', alpha=0.8)\n",
    "plt.xlabel('Pricing Error')\n",
    "plt.ylabel('Density')\n",
    "plt.title('Distribution of Pricing Errors (Unseen data) - GRU')\n",
    "plt.grid(True)\n",
    "plt.show()"
   ]
  }
 ],
 "metadata": {
  "kernelspec": {
   "display_name": "Python 3",
   "language": "python",
   "name": "python3"
  },
  "language_info": {
   "codemirror_mode": {
    "name": "ipython",
    "version": 3
   },
   "file_extension": ".py",
   "mimetype": "text/x-python",
   "name": "python",
   "nbconvert_exporter": "python",
   "pygments_lexer": "ipython3",
   "version": "3.8.5"
  }
 },
 "nbformat": 4,
 "nbformat_minor": 4
}
